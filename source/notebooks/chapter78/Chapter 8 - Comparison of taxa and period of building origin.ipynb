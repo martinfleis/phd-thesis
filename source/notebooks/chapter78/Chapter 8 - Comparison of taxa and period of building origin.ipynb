{
 "cells": [
  {
   "cell_type": "code",
   "execution_count": 1,
   "metadata": {},
   "outputs": [],
   "source": [
    "import pandas as pd\n",
    "import geopandas as gpd\n",
    "import seaborn as sns\n",
    "import matplotlib.pyplot as plt\n",
    "import husl\n",
    "from legendgram import legendgram\n",
    "import mapclassify\n",
    "from matplotlib_scalebar.scalebar import ScaleBar\n",
    "from matplotlib.colors import ListedColormap\n",
    "from shapely.geometry import Point\n",
    "\n",
    "from tqdm import tqdm"
   ]
  },
  {
   "cell_type": "code",
   "execution_count": 2,
   "metadata": {},
   "outputs": [],
   "source": [
    "clusters = pd.read_csv('/Users/martin/Dropbox/Academia/Data/Geo/Prague/Clustering/complete data/200218_clusters_complete_n20.csv', index_col=0)"
   ]
  },
  {
   "cell_type": "code",
   "execution_count": 3,
   "metadata": {},
   "outputs": [],
   "source": [
    "years = pd.read_csv('/Users/martin/Dropbox/Academia/Data/Geo/Prague/Validation/origin_year.csv', index_col=0)"
   ]
  },
  {
   "cell_type": "code",
   "execution_count": 4,
   "metadata": {},
   "outputs": [],
   "source": [
    "years['year'] = pd.Categorical(years['ROK_PUVODNI'], \n",
    "                               categories=[1840, 1880, 1920, 1950, 1970, 1990, 2012],\n",
    "                               ordered=True)"
   ]
  },
  {
   "cell_type": "code",
   "execution_count": 5,
   "metadata": {},
   "outputs": [],
   "source": [
    "joined = clusters.merge(years[['uID', 'year']], on='uID', how='left')"
   ]
  },
  {
   "cell_type": "code",
   "execution_count": 7,
   "metadata": {},
   "outputs": [
    {
     "data": {
      "text/html": [
       "<div>\n",
       "<style scoped>\n",
       "    .dataframe tbody tr th:only-of-type {\n",
       "        vertical-align: middle;\n",
       "    }\n",
       "\n",
       "    .dataframe tbody tr th {\n",
       "        vertical-align: top;\n",
       "    }\n",
       "\n",
       "    .dataframe thead th {\n",
       "        text-align: right;\n",
       "    }\n",
       "</style>\n",
       "<table border=\"1\" class=\"dataframe\">\n",
       "  <thead>\n",
       "    <tr style=\"text-align: right;\">\n",
       "      <th></th>\n",
       "      <th>uID</th>\n",
       "      <th>cluster</th>\n",
       "      <th>year</th>\n",
       "    </tr>\n",
       "  </thead>\n",
       "  <tbody>\n",
       "    <tr>\n",
       "      <th>0</th>\n",
       "      <td>0</td>\n",
       "      <td>1</td>\n",
       "      <td>1990</td>\n",
       "    </tr>\n",
       "    <tr>\n",
       "      <th>1</th>\n",
       "      <td>1</td>\n",
       "      <td>11</td>\n",
       "      <td>1840</td>\n",
       "    </tr>\n",
       "    <tr>\n",
       "      <th>2</th>\n",
       "      <td>2</td>\n",
       "      <td>13</td>\n",
       "      <td>1970</td>\n",
       "    </tr>\n",
       "    <tr>\n",
       "      <th>3</th>\n",
       "      <td>3</td>\n",
       "      <td>18</td>\n",
       "      <td>1950</td>\n",
       "    </tr>\n",
       "  </tbody>\n",
       "</table>\n",
       "</div>"
      ],
      "text/plain": [
       "   uID  cluster  year\n",
       "0    0        1  1990\n",
       "1    1       11  1840\n",
       "2    2       13  1970\n",
       "3    3       18  1950"
      ]
     },
     "execution_count": 7,
     "metadata": {},
     "output_type": "execute_result"
    }
   ],
   "source": [
    "joined.head(4)"
   ]
  },
  {
   "cell_type": "code",
   "execution_count": 32,
   "metadata": {},
   "outputs": [],
   "source": [
    "buildings = gpd.read_file('/Users/martin/Dropbox/Academia/Data/Geo/Prague/Clustering/geometry.gpkg', layer='buildings')"
   ]
  },
  {
   "cell_type": "code",
   "execution_count": 33,
   "metadata": {},
   "outputs": [],
   "source": [
    "buildings = buildings.merge(joined, on='uID', how='left')"
   ]
  },
  {
   "cell_type": "code",
   "execution_count": 46,
   "metadata": {},
   "outputs": [
    {
     "data": {
      "text/plain": [
       "[1990, 1840, 1970, 1950, NaN, 1920, 2012, 1880]\n",
       "Categories (7, int64): [1840 < 1880 < 1920 < 1950 < 1970 < 1990 < 2012]"
      ]
     },
     "execution_count": 46,
     "metadata": {},
     "output_type": "execute_result"
    }
   ],
   "source": [
    "buildings.year.unique()"
   ]
  },
  {
   "cell_type": "code",
   "execution_count": null,
   "metadata": {},
   "outputs": [],
   "source": []
  },
  {
   "cell_type": "code",
   "execution_count": 7,
   "metadata": {},
   "outputs": [],
   "source": [
    "import numpy as np\n",
    "\n",
    "def show_values_on_bars(axs):\n",
    "    def _show_on_single_plot(ax):        \n",
    "        for p in ax.patches:\n",
    "            _x = p.get_x() + p.get_width() / 2\n",
    "            _y = p.get_y() + p.get_height() + 0.02\n",
    "            value = '{:.2f}'.format(p.get_height())\n",
    "            ax.text(_x, _y, value, ha=\"center\") \n",
    "\n",
    "    if isinstance(axs, np.ndarray):\n",
    "        for idx, ax in np.ndenumerate(axs):\n",
    "            _show_on_single_plot(ax)\n",
    "    else:\n",
    "        _show_on_single_plot(axs)\n",
    "\n",
    "pal = [husl.husl_to_hex(*color) for color in colors]"
   ]
  },
  {
   "cell_type": "code",
   "execution_count": null,
   "metadata": {},
   "outputs": [],
   "source": [
    "# historical core\n",
    "data = joined.loc[joined['cluster'].isin([11])]['year'].value_counts(sort=False, normalize=True)\n",
    "\n",
    "sns.set(context=\"paper\", style=\"ticks\", rc={'patch.force_edgecolor': False})\n",
    "fig, ax = plt.subplots(figsize=(10, 5))\n",
    "sns.barplot(ax=ax, x=data.index, y=data, order=data.index, palette=pal)\n",
    "sns.despine(offset=10)\n",
    "plt.ylabel('frequency')\n",
    "plt.xlabel('historical period')\n",
    "plt.ylim(0, 1)\n",
    "show_values_on_bars(ax)"
   ]
  },
  {
   "cell_type": "code",
   "execution_count": null,
   "metadata": {},
   "outputs": [],
   "source": [
    "fig, ax = plt.subplots(2, 2, figsize=(10, 7))\n",
    "\n",
    "data = joined.loc[joined['cluster'].isin([11])]['year'].value_counts(sort=False, normalize=True)\n",
    "sns.barplot(ax=ax[0, 0], x=data.index, y=data, order=data.index, palette=pal)\n",
    "sns.despine(offset=10)\n",
    "ax[0,0].set_ylabel('frequency')\n",
    "ax[0,0].set_xlabel('historical period')\n",
    "ax[0,0].set_title('cluster 11')\n",
    "ax[0,0].set_ylim(0, 1)\n",
    "show_values_on_bars(ax[0, 0])\n",
    "\n",
    "data = joined.loc[joined['cluster'].isin([5])]['year'].value_counts(sort=False, normalize=True)\n",
    "sns.barplot(ax=ax[0, 1], x=data.index, y=data, order=data.index, palette=pal)\n",
    "sns.despine(offset=10)\n",
    "ax[0,1].set_ylabel('frequency')\n",
    "ax[0,1].set_xlabel('historical period')\n",
    "ax[0,1].set_title('cluster 5')\n",
    "ax[0,1].set_ylim(0, 1)\n",
    "show_values_on_bars(ax[0, 1])\n",
    "\n",
    "data = joined.loc[joined['cluster'].isin([12])]['year'].value_counts(sort=False, normalize=True)\n",
    "sns.barplot(ax=ax[1, 0], x=data.index, y=data, order=data.index, palette=pal)\n",
    "sns.despine(offset=10)\n",
    "ax[1,0].set_ylabel('frequency')\n",
    "ax[1,0].set_xlabel('historical period')\n",
    "ax[1,0].set_title('cluster 12')\n",
    "ax[1,0].set_ylim(0, 1)\n",
    "show_values_on_bars(ax[1, 0])\n",
    "\n",
    "data = joined.loc[joined['cluster'].isin([13])]['year'].value_counts(sort=False, normalize=True)\n",
    "sns.barplot(ax=ax[1, 1], x=data.index, y=data, order=data.index, palette=pal)\n",
    "sns.despine(offset=10)\n",
    "ax[1,1].set_ylabel('frequency')\n",
    "ax[1,1].set_xlabel('historical period')\n",
    "ax[1,1].set_title('cluster 13')\n",
    "ax[1,1].set_ylim(0, 1)\n",
    "show_values_on_bars(ax[1, 1])\n",
    "\n",
    "plt.tight_layout()\n",
    "plt.savefig('figures/PRG_cluster_origin_subplot.pdf')"
   ]
  },
  {
   "cell_type": "code",
   "execution_count": null,
   "metadata": {},
   "outputs": [],
   "source": [
    "fig, ax = plt.subplots(1, 2, figsize=(10, 3.5))\n",
    "\n",
    "data = joined.loc[joined['cluster'].isin([11, 15, 5])]['year'].value_counts(sort=False, normalize=True)\n",
    "sns.barplot(ax=ax[0], x=data.index, y=data, order=data.index, palette=pal)\n",
    "sns.despine(offset=10)\n",
    "ax[0].set_ylabel('frequency')\n",
    "ax[0].set_xlabel('historical period')\n",
    "ax[0].set_title('compact core')\n",
    "ax[0].set_ylim(0, 1)\n",
    "show_values_on_bars(ax[0])\n",
    "\n",
    "data = joined.loc[joined['cluster'].isin([1, 19])]['year'].value_counts(sort=False, normalize=True)\n",
    "sns.barplot(ax=ax[1], x=data.index, y=data, order=data.index, palette=pal)\n",
    "sns.despine(offset=10)\n",
    "ax[1].set_ylabel('frequency')\n",
    "ax[1].set_xlabel('historical period')\n",
    "ax[1].set_title('large scale industry')\n",
    "ax[1].set_ylim(0, 1)\n",
    "show_values_on_bars(ax[1])\n",
    "plt.tight_layout()\n",
    "\n",
    "plt.savefig('figures/PRG_branch_origin_subplot.pdf')"
   ]
  },
  {
   "cell_type": "code",
   "execution_count": 43,
   "metadata": {},
   "outputs": [],
   "source": [
    "# save all clusters\n",
    "for cl in range(20):\n",
    "    data = joined.loc[joined['cluster'].isin([cl])]['year'].value_counts(sort=False, normalize=True)\n",
    "\n",
    "    sns.set(context=\"paper\", style=\"ticks\", rc={'patch.force_edgecolor': False})\n",
    "    fig, ax = plt.subplots(figsize=(10, 5))\n",
    "    sns.barplot(ax=ax, x=data.index, y=data, order=data.index, palette=pal)\n",
    "    sns.despine(offset=10)\n",
    "    plt.ylabel('frequency')\n",
    "    plt.xlabel('historical period')\n",
    "    plt.ylim(0, 1)\n",
    "    show_values_on_bars(ax)\n",
    "    for ext in ['pdf', 'png']:\n",
    "        plt.savefig('figures/PRG_cluster_' + str(cl) + '_origin.' + ext, bbox_inches='tight')\n",
    "    plt.close()"
   ]
  },
  {
   "cell_type": "code",
   "execution_count": null,
   "metadata": {},
   "outputs": [],
   "source": [
    "# blocks core\n",
    "data = joined.loc[joined['cluster'].isin([11, 15, 5, 10])]['year'].value_counts(sort=False, normalize=True)\n",
    "\n",
    "sns.set(context=\"paper\", style=\"ticks\", rc={'patch.force_edgecolor': False})\n",
    "fig, ax = plt.subplots(figsize=(10, 5))\n",
    "sns.barplot(ax=ax, x=data.index, y=data, order=data.index, palette=pal)\n",
    "sns.despine(offset=10)\n",
    "plt.ylabel('frequency')\n",
    "plt.xlabel('historical period')\n",
    "plt.ylim(0, 1)\n",
    "show_values_on_bars(ax)\n",
    "for ext in ['pdf', 'png']:\n",
    "    plt.savefig('figures/PRG_compact_' + str(cl) + '_origin.' + ext, bbox_inches='tight')"
   ]
  },
  {
   "cell_type": "code",
   "execution_count": null,
   "metadata": {},
   "outputs": [],
   "source": [
    "# modern core\n",
    "data = joined.loc[joined['cluster'].isin([12, 14])]['year'].value_counts(sort=False, normalize=True)\n",
    "\n",
    "sns.set(context=\"paper\", style=\"ticks\", rc={'patch.force_edgecolor': False})\n",
    "fig, ax = plt.subplots(figsize=(10, 5))\n",
    "sns.barplot(ax=ax, x=data.index, y=data, order=data.index, palette=pal)\n",
    "sns.despine(offset=10)\n",
    "plt.ylabel('frequency')\n",
    "plt.xlabel('historical period')\n",
    "plt.ylim(0, 1)\n",
    "show_values_on_bars(ax)\n",
    "for ext in ['pdf', 'png']:\n",
    "    plt.savefig('figures/PRG_modern_' + str(cl) + '_origin.' + ext, bbox_inches='tight')"
   ]
  },
  {
   "cell_type": "markdown",
   "metadata": {},
   "source": [
    "years and their clusters"
   ]
  },
  {
   "cell_type": "code",
   "execution_count": 82,
   "metadata": {},
   "outputs": [],
   "source": [
    "colors = [(257, 71, 27), (98, 93, 78), (14, 79, 58), (26, 0, 50), (75, 90, 85), (347, 72, 60), (246, 79, 60)]\n",
    "cols = []\n",
    "for col in colors:\n",
    "    pal = sns.light_palette(col, input=\"husl\", n_colors=5)\n",
    "    for rgb in pal[1:]:\n",
    "        cols.append(rgb)\n",
    "\n",
    "symbology = {0: cols[10],\n",
    "             1: cols[14],\n",
    "             2: cols[20],\n",
    "             3: cols[9],\n",
    "             4: cols[22],\n",
    "             5: cols[1],\n",
    "             6: cols[18],\n",
    "             7: cols[23],\n",
    "             8: cols[11],\n",
    "             9: cols[21],\n",
    "             10: cols[0],\n",
    "             11: cols[3],\n",
    "             12: cols[7],\n",
    "             13: cols[22],\n",
    "             14: cols[6],\n",
    "             15: cols[2],\n",
    "             16: cols[19],\n",
    "             17: cols[23],\n",
    "             18: cols[17],\n",
    "             19: cols[15]}"
   ]
  },
  {
   "cell_type": "code",
   "execution_count": null,
   "metadata": {},
   "outputs": [],
   "source": [
    "for p in joined.year.cat.categories:\n",
    "\n",
    "    data = joined[joined.year == p].cluster.value_counts(normalize=True)\n",
    "\n",
    "    fig, ax = plt.subplots(figsize=(10, 5))\n",
    "    sns.barplot(ax=ax, x=data.index, y=data, palette=symbology)\n",
    "    sns.despine(offset=10)\n",
    "    plt.ylim(0, 1)\n",
    "    plt.ylabel('frequency')\n",
    "    plt.xlabel('cluster')\n",
    "    show_values_on_bars(ax)\n",
    "    for ext in ['pdf', 'png']:\n",
    "        plt.savefig('figures/PRG_period_' + str(cl) + '.' + ext, bbox_inches='tight')"
   ]
  },
  {
   "cell_type": "markdown",
   "metadata": {},
   "source": [
    "These have to be interpeted, but some taxa show remarkable link between year of construction and urban pattern. YAY!"
   ]
  },
  {
   "cell_type": "code",
   "execution_count": 8,
   "metadata": {},
   "outputs": [],
   "source": [
    "import scipy.stats as ss\n",
    "import numpy as np\n",
    "\n",
    "def cramers_v(x, y):\n",
    "    confusion_matrix = pd.crosstab(x,y)\n",
    "    chi2 = ss.chi2_contingency(confusion_matrix)[0]\n",
    "    n = confusion_matrix.sum().sum()\n",
    "    phi2 = chi2/n\n",
    "    r,k = confusion_matrix.shape\n",
    "    phi2corr = max(0, phi2-((k-1)*(r-1))/(n-1))\n",
    "    rcorr = r-((r-1)**2)/(n-1)\n",
    "    kcorr = k-((k-1)**2)/(n-1)\n",
    "    return np.sqrt(phi2corr/min((kcorr-1),(rcorr-1)))"
   ]
  },
  {
   "cell_type": "code",
   "execution_count": 9,
   "metadata": {},
   "outputs": [
    {
     "data": {
      "text/plain": [
       "0.35805157150989764"
      ]
     },
     "execution_count": 9,
     "metadata": {},
     "output_type": "execute_result"
    }
   ],
   "source": [
    "cramers_v(joined.cluster, joined.year)"
   ]
  },
  {
   "cell_type": "markdown",
   "metadata": {},
   "source": [
    "The resulting value of 0.5 indicates moderate relationship between clustering and historical origin."
   ]
  },
  {
   "cell_type": "markdown",
   "metadata": {},
   "source": [
    "#### Chi-square test of independence of variables in a contingency table"
   ]
  },
  {
   "cell_type": "code",
   "execution_count": 10,
   "metadata": {},
   "outputs": [],
   "source": [
    "confusion_matrix = pd.crosstab(joined.cluster, joined.year)\n",
    "chi, p, dof, exp = ss.chi2_contingency(confusion_matrix)"
   ]
  },
  {
   "cell_type": "code",
   "execution_count": 11,
   "metadata": {},
   "outputs": [
    {
     "data": {
      "text/plain": [
       "0.0"
      ]
     },
     "execution_count": 11,
     "metadata": {},
     "output_type": "execute_result"
    }
   ],
   "source": [
    "p"
   ]
  },
  {
   "cell_type": "code",
   "execution_count": 12,
   "metadata": {},
   "outputs": [
    {
     "data": {
      "text/plain": [
       "114"
      ]
     },
     "execution_count": 12,
     "metadata": {},
     "output_type": "execute_result"
    }
   ],
   "source": [
    "dof"
   ]
  },
  {
   "cell_type": "code",
   "execution_count": 13,
   "metadata": {},
   "outputs": [
    {
     "data": {
      "text/plain": [
       "106700.50861461915"
      ]
     },
     "execution_count": 13,
     "metadata": {},
     "output_type": "execute_result"
    }
   ],
   "source": [
    "chi"
   ]
  },
  {
   "cell_type": "code",
   "execution_count": 15,
   "metadata": {},
   "outputs": [
    {
     "data": {
      "text/plain": [
       "140315"
      ]
     },
     "execution_count": 15,
     "metadata": {},
     "output_type": "execute_result"
    }
   ],
   "source": [
    "joined.cluster.size"
   ]
  },
  {
   "cell_type": "markdown",
   "metadata": {},
   "source": [
    "p-value is < 0.001\n",
    "\n",
    "there is a significant dependency between variables"
   ]
  }
 ],
 "metadata": {
  "kernelspec": {
   "display_name": "geo_dev",
   "language": "python",
   "name": "geo_dev"
  },
  "language_info": {
   "codemirror_mode": {
    "name": "ipython",
    "version": 3
   },
   "file_extension": ".py",
   "mimetype": "text/x-python",
   "name": "python",
   "nbconvert_exporter": "python",
   "pygments_lexer": "ipython3",
   "version": "3.7.6"
  }
 },
 "nbformat": 4,
 "nbformat_minor": 4
}
