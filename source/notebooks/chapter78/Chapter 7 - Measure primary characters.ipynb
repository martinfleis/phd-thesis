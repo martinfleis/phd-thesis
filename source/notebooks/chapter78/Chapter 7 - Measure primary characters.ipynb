{
 "cells": [
  {
   "source": [
    "Input is a `geometry` from previous notebook.\n",
    "\n",
    "This notebook measures 74 primary morphometric characters. Requires `momepy` 0.2.1 or newer.\n",
    "\n",
    "It does save intermediate parquet files as a backup."
   ],
   "cell_type": "markdown",
   "metadata": {}
  },
  {
   "cell_type": "code",
   "execution_count": null,
   "metadata": {},
   "outputs": [],
   "source": [
    "import geopandas as gpd\n",
    "import momepy as mm\n",
    "import libpysal\n",
    "import pandas as pd"
   ]
  },
  {
   "cell_type": "code",
   "execution_count": null,
   "metadata": {},
   "outputs": [],
   "source": [
    "path = 'files/geometry.gpkg'\n",
    "\n",
    "tess = gpd.read_file(path, layer=\"tessellation\")\n",
    "blg = gpd.read_file(path, layer=\"buildings\")\n",
    "blocks = gpd.read_file(path, layer='blocks')"
   ]
  },
  {
   "cell_type": "markdown",
   "metadata": {},
   "source": [
    "Get building height. Use x if it is more than 3, otherwise use 3m. `'roof-0.75'` is an input form 3dBAG data."
   ]
  },
  {
   "cell_type": "code",
   "execution_count": null,
   "metadata": {},
   "outputs": [],
   "source": [
    "blg['sdbHei'] = blg['roof-0.75'].apply(lambda x: x if x > 3 else 3)"
   ]
  },
  {
   "cell_type": "markdown",
   "metadata": {},
   "source": [
    "## Measure characters"
   ]
  },
  {
   "cell_type": "code",
   "execution_count": null,
   "metadata": {},
   "outputs": [],
   "source": [
    "blg['sdbAre'] = mm.Area(blg).series\n",
    "blg['sdbVol'] = mm.Volume(blg, 'sdbHei', 'sdbAre').series\n",
    "blg['sdbPer'] = mm.Perimeter(blg).series\n",
    "blg['sdbCoA'] = mm.CourtyardArea(blg, 'sdbAre').series\n",
    "\n",
    "blg['ssbFoF'] = mm.FormFactor(blg, 'sdbVol', 'sdbAre').series\n",
    "blg['ssbVFR'] = mm.VolumeFacadeRatio(blg, 'sdbHei', 'sdbVol', 'sdbPer').series\n",
    "blg['ssbCCo'] = mm.CircularCompactness(blg, 'sdbAre').series\n",
    "blg['ssbCor'] = mm.Corners(blg).series\n",
    "blg['ssbSqu'] = mm.Squareness(blg).series\n",
    "blg['ssbERI'] = mm.EquivalentRectangularIndex(blg, 'sdbAre', 'sdbPer').series\n",
    "blg['ssbElo'] = mm.Elongation(blg).series"
   ]
  },
  {
   "cell_type": "code",
   "execution_count": null,
   "metadata": {},
   "outputs": [],
   "source": [
    "cencon = mm.CentroidCorners(blg)\n",
    "blg['ssbCCM'] = cencon.mean\n",
    "blg['ssbCCD'] = cencon.std"
   ]
  },
  {
   "cell_type": "code",
   "execution_count": null,
   "metadata": {},
   "outputs": [],
   "source": [
    "blg['stbOri'] = mm.Orientation(blg).series\n",
    " \n",
    "tess['stcOri'] = mm.Orientation(tess).series\n",
    "blg['stbCeA'] = mm.CellAlignment(blg, tess, 'stbOri', 'stcOri', 'uID', 'uID').series"
   ]
  },
  {
   "cell_type": "code",
   "execution_count": null,
   "metadata": {},
   "outputs": [],
   "source": [
    "tess['sdcLAL'] = mm.LongestAxisLength(tess).series\n",
    "tess['sdcAre'] = mm.Area(tess).series\n",
    "tess['sscCCo'] = mm.CircularCompactness(tess, 'sdcAre').series\n",
    "tess['sscERI'] = mm.EquivalentRectangularIndex(tess, 'sdcAre').series\n",
    "\n",
    "tess['sicCAR'] = mm.AreaRatio(tess, blg, 'sdcAre', 'sdbAre', 'uID').series\n",
    "tess['sicFAR'] = mm.AreaRatio(tess, blg, 'sdcAre', 'HPP', 'uID').series"
   ]
  },
  {
   "cell_type": "code",
   "execution_count": null,
   "metadata": {},
   "outputs": [],
   "source": [
    "blg[\"mtbSWR\"] = mm.SharedWallsRatio(blg, \"uID\", \"sdbPer\").series\n",
    " \n",
    "queen_1 = libpysal.weights.contiguity.Queen.from_dataframe(tess, ids=\"uID\")\n",
    " \n",
    "blg[\"mtbAli\"] = mm.Alignment(blg, queen_1, \"uID\", \"stbOri\").series\n",
    "blg[\"mtbNDi\"] = mm.NeighborDistance(blg, queen_1, \"uID\").series\n",
    "tess[\"mtcWNe\"] = mm.Neighbors(tess, queen_1, \"uID\", weighted=True).series\n",
    "tess[\"mdcAre\"] = mm.CoveredArea(tess, queen_1, \"uID\").series"
   ]
  },
  {
   "cell_type": "code",
   "execution_count": null,
   "metadata": {},
   "outputs": [],
   "source": [
    "blg_q1 = libpysal.weights.contiguity.Queen.from_dataframe(blg)\n",
    " \n",
    "blg[\"libNCo\"] = mm.Courtyards(blg, \"bID\", blg_q1).series\n",
    "blg[\"ldbPWL\"] = mm.PerimeterWall(blg, blg_q1).series\n",
    " \n",
    "blocks[\"ldkAre\"] = mm.Area(blocks).series\n",
    "blocks[\"ldkPer\"] = mm.Perimeter(blocks).series\n",
    "blocks[\"lskCCo\"] = mm.CircularCompactness(blocks, \"ldkAre\").series\n",
    "blocks[\"lskERI\"] = mm.EquivalentRectangularIndex(blocks, \"ldkAre\", \"ldkPer\").series\n",
    "blocks[\"lskCWA\"] = mm.CompactnessWeightedAxis(blocks, \"ldkAre\", \"ldkPer\").series\n",
    "blocks[\"ltkOri\"] = mm.Orientation(blocks).series\n",
    " \n",
    "blo_q1 = libpysal.weights.contiguity.Queen.from_dataframe(blocks, ids=\"bID\")\n",
    " \n",
    "blocks[\"ltkWNB\"] = mm.Neighbors(blocks, blo_q1, \"bID\", weighted=True).series\n",
    "blocks[\"likWBB\"] = mm.Count(blocks, blg, \"bID\", \"bID\", weighted=True).series"
   ]
  },
  {
   "cell_type": "markdown",
   "metadata": {},
   "source": [
    "Save data to parquets."
   ]
  },
  {
   "cell_type": "code",
   "execution_count": null,
   "metadata": {},
   "outputs": [],
   "source": [
    "tess.drop(columns='geometry').to_parquet('files/tess_data.parquet')\n",
    "blg.drop(columns='geometry').to_parquet('files/blg_data.parquet')\n",
    "blocks.drop(columns='geometry').to_parquet('files/blocks_data.parquet')"
   ]
  },
  {
   "cell_type": "code",
   "execution_count": null,
   "metadata": {},
   "outputs": [],
   "source": [
    "queen3 = mm.sw_high(k=3, weights=queen_1)\n",
    "queen1 = queen_1\n",
    "blg_queen = blg_q1\n",
    "\n",
    "blg['ltbIBD'] = mm.MeanInterbuildingDistance(blg, queen1, 'uID', queen3).series\n",
    "blg['ltcBuA'] = mm.BuildingAdjacency(blg, queen3, 'uID', blg_queen).series"
   ]
  },
  {
   "cell_type": "code",
   "execution_count": null,
   "metadata": {},
   "outputs": [],
   "source": [
    "tess = tess.merge(blg[['HPP', 'uID']], on='uID', how='left')\n",
    "tess['licGDe'] = mm.Density(tess, 'HPP', queen3, 'uID', 'sdcAre').series\n",
    "tess = tess.drop(columns='HPP')\n",
    "tess['ltcWRB'] = mm.BlocksCount(tess, 'bID', queen3, 'uID').series"
   ]
  },
  {
   "cell_type": "markdown",
   "metadata": {},
   "source": [
    "Save data to parquets and spatial weights matrices to gal files.\n"
   ]
  },
  {
   "cell_type": "code",
   "execution_count": null,
   "metadata": {},
   "outputs": [],
   "source": [
    "tess.drop(columns='geometry').to_parquet('files/tess_data.parquet')\n",
    "blg.drop(columns='geometry').to_parquet('files/blg_data.parquet')\n",
    " \n",
    "fo = libpysal.io.open('files/AMSqueen1.gal', 'w')\n",
    "fo.write(queen1)\n",
    "fo.close()\n",
    " \n",
    "fo = libpysal.io.open('files/AMSqueen3.gal', 'w')\n",
    "fo.write(queen3)\n",
    "fo.close()\n",
    " \n",
    "fo = libpysal.io.open('files/AMSblg_queen.gal', 'w')\n",
    "fo.write(blg_queen)\n",
    "fo.close()"
   ]
  },
  {
   "cell_type": "code",
   "execution_count": null,
   "metadata": {},
   "outputs": [],
   "source": [
    "streets = gpd.read_file(path, layer=\"network\")"
   ]
  },
  {
   "cell_type": "code",
   "execution_count": null,
   "metadata": {},
   "outputs": [],
   "source": [
    "streets[\"sdsLen\"] = mm.Perimeter(streets).series\n",
    "tess[\"stcSAl\"] = mm.StreetAlignment(tess, streets, \"stcOri\", \"nID\").series\n",
    "blg[\"stbSAl\"] = mm.StreetAlignment(blg, streets, \"stbOri\", \"nID\").series\n",
    "\n",
    "profile = mm.StreetProfile(streets, blg, heights='sdbHei', distance=3)\n",
    "streets[\"sdsSPW\"] = profile.w\n",
    "streets[\"sdsSPH\"] = profile.h\n",
    "streets[\"sdsSPR\"] = profile.p\n",
    "streets[\"sdsSPO\"] = profile.o\n",
    "streets[\"sdsSWD\"] = profile.wd\n",
    "streets[\"sdsSHD\"] = profile.hd\n",
    " \n",
    "streets[\"sssLin\"] = mm.Linearity(streets).series\n",
    "streets[\"sdsAre\"] = mm.Reached(streets, tess, \"nID\", \"nID\", mode=\"sum\", values=\"sdcAre\").series\n",
    "streets[\"sisBpM\"] = mm.Count(streets, blg, \"nID\", \"nID\", weighted=True).series"
   ]
  },
  {
   "cell_type": "code",
   "execution_count": null,
   "metadata": {},
   "outputs": [],
   "source": [
    "tess.drop(columns='geometry').to_parquet('files/UAP/tess_data.parquet')\n",
    "blg.drop(columns='geometry').to_parquet('files/UAP/blg_data.parquet')\n",
    "streets.drop(columns='geometry').to_parquet('files/UAP/streets_data.parquet')"
   ]
  },
  {
   "cell_type": "code",
   "execution_count": null,
   "metadata": {},
   "outputs": [],
   "source": [
    "str_q1 = libpysal.weights.contiguity.Queen.from_dataframe(streets)\n",
    " \n",
    "streets[\"misRea\"] = mm.Reached(\n",
    "    streets, tess, \"nID\", \"nID\", spatial_weights=str_q1, mode=\"count\"\n",
    ").series\n",
    "streets[\"mdsAre\"] = mm.Reached(streets, tess, \"nID\", \"nID\", spatial_weights=str_q1,\n",
    "                               mode=\"sum\").series"
   ]
  },
  {
   "cell_type": "code",
   "execution_count": null,
   "metadata": {},
   "outputs": [],
   "source": [
    "graph = mm.gdf_to_nx(streets)\n",
    " \n",
    "print(\"node degree\")\n",
    "graph = mm.node_degree(graph)\n",
    " \n",
    "print(\"subgraph\")\n",
    "graph = mm.subgraph(\n",
    "    graph,\n",
    "    radius=5,\n",
    "    meshedness=True,\n",
    "    cds_length=False,\n",
    "    mode=\"sum\",\n",
    "    degree=\"degree\",\n",
    "    length=\"mm_len\",\n",
    "    mean_node_degree=False,\n",
    "    proportion={0: True, 3: True, 4: True},\n",
    "    cyclomatic=False,\n",
    "    edge_node_ratio=False,\n",
    "    gamma=False,\n",
    "    local_closeness=True,\n",
    "    closeness_weight=\"mm_len\",\n",
    ")\n",
    "print(\"cds length\")\n",
    "graph = mm.cds_length(graph, radius=3, name=\"ldsCDL\")\n",
    " \n",
    "print(\"clustering\")\n",
    "graph = mm.clustering(graph, name=\"xcnSCl\")\n",
    " \n",
    "print(\"mean_node_dist\")\n",
    "graph = mm.mean_node_dist(graph, name=\"mtdMDi\")\n",
    " \n",
    "nodes, edges, sw = mm.nx_to_gdf(graph, spatial_weights=True)\n",
    " \n",
    "print(\"saving\")\n",
    "nodes.to_file(path, layer=\"nodes\", driver=\"GPKG\")\n",
    "edges.to_file(path, layer=\"edges\", driver=\"GPKG\")\n",
    " \n",
    "fo = libpysal.io.open(\"files/UAP/UAPnodes.gal\", \"w\")\n",
    "fo.write(sw)\n",
    "fo.close()\n",
    " \n",
    "edges_w3 = mm.sw_high(k=3, gdf=edges)\n",
    "edges[\"ldsMSL\"] = mm.SegmentsLength(edges, spatial_weights=edges_w3, mean=True).series\n",
    " \n",
    "edges[\"ldsRea\"] = mm.Reached(edges, tess, \"nID\", \"nID\", spatial_weights=edges_w3).series\n",
    "edges[\"ldsRea\"] = mm.Reached(\n",
    "    edges, tess, \"nID\", \"nID\", spatial_weights=edges_w3, mode=\"sum\", values=\"sdcAre\"\n",
    ").series\n",
    " \n",
    "nodes_w5 = mm.sw_high(k=5, weights=sw)\n",
    "nodes[\"lddNDe\"] = mm.NodeDensity(nodes, edges, nodes_w5).series\n",
    "nodes[\"linWID\"] = mm.NodeDensity(\n",
    "    nodes, edges, nodes_w5, weighted=True, node_degree=\"degree\"\n",
    ").series\n",
    " \n",
    "blg[\"nodeID\"] = mm.get_node_id(blg, nodes, edges, \"nodeID\", \"nID\")\n",
    "tess = tess.merge(blg[[\"uID\", \"nodeID\"]], on=\"uID\", how=\"left\")\n",
    " \n",
    "nodes_w3 = mm.sw_high(k=3, weights=sw)\n",
    " \n",
    "nodes[\"lddRea\"] = mm.Reached(nodes, tess, \"nodeID\", \"nodeID\", nodes_w3).series\n",
    "nodes[\"lddARe\"] = mm.Reached(\n",
    "    nodes, tess, \"nodeID\", \"nodeID\", nodes_w3, mode=\"sum\", values=\"sdcAre\"\n",
    ").series\n",
    " \n",
    "nodes[\"sddAre\"] = mm.Reached(\n",
    "    nodes, tess, \"nodeID\", \"nodeID\", mode=\"sum\", values=\"sdcAre\"\n",
    ").series\n",
    "nodes[\"midRea\"] = mm.Reached(nodes, tess, \"nodeID\", \"nodeID\", spatial_weights=sw).series\n",
    "nodes[\"midAre\"] = mm.Reached(\n",
    "    nodes, tess, \"nodeID\", \"nodeID\", spatial_weights=sw, mode=\"sum\", values=\"sdcAre\"\n",
    ").series\n",
    " \n",
    "nodes.rename(\n",
    "    columns={\n",
    "        \"degree\": \"mtdDeg\",\n",
    "        \"meshedness\": \"lcdMes\",\n",
    "        \"local_closeness\": \"lcnClo\",\n",
    "        \"proportion_3\": \"linP3W\",\n",
    "        \"proportion_4\": \"linP4W\",\n",
    "        \"proportion_0\": \"linPDE\",\n",
    "    }, inplace=True\n",
    ")"
   ]
  },
  {
   "cell_type": "code",
   "execution_count": null,
   "metadata": {},
   "outputs": [],
   "source": [
    "tess.drop(columns='geometry').to_parquet('files/UAP/tess_data.parquet')\n",
    "blg.drop(columns='geometry').to_parquet('files/UAP/blg_data.parquet')\n",
    "nodes.drop(columns='geometry').to_parquet('files/UAP/nodes_data.parquet')\n",
    "edges.drop(columns='geometry').to_parquet('files/UAP/edges_data.parquet')"
   ]
  },
  {
   "cell_type": "code",
   "execution_count": null,
   "metadata": {},
   "outputs": [],
   "source": [
    "merged = tess.merge(blg.drop(columns=['nID', 'bID', 'nodeID', 'geometry']), on='uID')\n",
    "merged = merged.merge(blocks.drop(columns='geometry'), on='bID', how='left')\n",
    "merged = merged.merge(edges.drop(columns='geometry'), on='nID', how='left')\n",
    "merged = merged.merge(nodes.drop(columns='geometry'), on='nodeID', how='left')"
   ]
  },
  {
   "cell_type": "markdown",
   "metadata": {},
   "source": [
    "Clean columns to keep only data."
   ]
  },
  {
   "cell_type": "code",
   "execution_count": null,
   "metadata": {},
   "outputs": [],
   "source": [
    "primary = merged.drop(columns=['nID', 'bID', 'nodeID', 'mm_len', 'cdsbool', \n",
    "                               'node_start', 'node_end', 'geometry', 'greedy', \n",
    "                               ])"
   ]
  },
  {
   "cell_type": "markdown",
   "metadata": {},
   "source": [
    "Final save of data."
   ]
  },
  {
   "cell_type": "code",
   "execution_count": null,
   "metadata": {},
   "outputs": [],
   "source": [
    "primary.to_parquet('files/primary.parquet')"
   ]
  }
 ],
 "metadata": {
  "language_info": {
   "codemirror_mode": {
    "name": "ipython",
    "version": 3
   },
   "file_extension": ".py",
   "mimetype": "text/x-python",
   "name": "python",
   "nbconvert_exporter": "python",
   "pygments_lexer": "ipython3",
   "version": "3.8.2-final"
  },
  "orig_nbformat": 2,
  "kernelspec": {
   "name": "geo_dev",
   "display_name": "geo_dev"
  }
 },
 "nbformat": 4,
 "nbformat_minor": 2
}