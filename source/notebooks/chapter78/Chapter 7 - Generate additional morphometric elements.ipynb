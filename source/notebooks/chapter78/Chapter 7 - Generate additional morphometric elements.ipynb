{
 "cells": [
  {
   "source": [
    "Input data:\n",
    " - building footprints with height attribute\n",
    " - street network\n",
    "\n",
    "This notebook generates morphometric elements required for further analysis. It requires `momepy` 0.3 or newer."
   ],
   "cell_type": "markdown",
   "metadata": {}
  },
  {
   "cell_type": "code",
   "execution_count": null,
   "metadata": {},
   "outputs": [],
   "source": [
    "import geopandas as gpd\n",
    "import momepy as mm"
   ]
  },
  {
   "cell_type": "code",
   "execution_count": null,
   "metadata": {},
   "outputs": [],
   "source": [
    "path = \"files/geometry.gpkg\"\n",
    "layer = \"buildings\""
   ]
  },
  {
   "cell_type": "markdown",
   "metadata": {},
   "source": [
    "Open buildings and assing unique ID to each."
   ]
  },
  {
   "cell_type": "code",
   "execution_count": null,
   "metadata": {},
   "outputs": [],
   "source": [
    "buildings = gpd.read_file(path, layer=layer)\n",
    "buildings[\"uID\"] = range(len(buildings))"
   ]
  },
  {
   "cell_type": "markdown",
   "metadata": {},
   "source": [
    "## Morphological tessellation\n",
    "\n",
    "Check input for ressellation."
   ]
  },
  {
   "cell_type": "code",
   "execution_count": null,
   "metadata": {},
   "outputs": [],
   "source": [
    "check = mm.CheckTessellationInput(buildings)"
   ]
  },
  {
   "cell_type": "markdown",
   "metadata": {},
   "source": [
    "Generate tessellation limited to 100 m buffer. Beware, it eats a ton of memory."
   ]
  },
  {
   "cell_type": "code",
   "execution_count": null,
   "metadata": {},
   "outputs": [],
   "source": [
    "limit = mm.buffered_limit(buildings, 100)\n",
    "\n",
    "tess = mm.Tessellation(buildings, \"uID\", limit)\n",
    "tessellation = tess.queen_corners(sensitivity=2) # this is a dirty fix I am not using anymore, but I did in thesis\n"
   ]
  },
  {
   "cell_type": "code",
   "execution_count": null,
   "metadata": {},
   "outputs": [],
   "source": [
    "tessellation.to_file(\"files/geometry.gpkg\", layer=\"tessellation\", driver=\"GPKG\")"
   ]
  },
  {
   "cell_type": "markdown",
   "metadata": {},
   "source": [
    "## Tessellation based blocks\n",
    "\n",
    "We need streets for that."
   ]
  },
  {
   "cell_type": "code",
   "execution_count": null,
   "metadata": {},
   "outputs": [],
   "source": [
    "streets = gpd.read_file('files/geometry.gpkg', layer='streets')"
   ]
  },
  {
   "cell_type": "code",
   "execution_count": null,
   "metadata": {},
   "outputs": [],
   "source": [
    "snapped = mm.snap_street_network_edge(streets, buildings, 20, tessellation, 120, limit) # snap to close unwanted gaps\n",
    "blocks = mm.Blocks(tessellation, snapped, buildings, 'bID', 'uID')\n",
    "blocks_df = blocks.blocks  # get blocks df\n",
    "buildings['bID'] = blocks.buildings_id  # get block ID\n",
    "tessellation['bID'] = blocks.tessellation_id  # get block ID"
   ]
  },
  {
   "source": [
    "## Link streets"
   ],
   "cell_type": "markdown",
   "metadata": {}
  },
  {
   "cell_type": "code",
   "execution_count": null,
   "metadata": {},
   "outputs": [],
   "source": [
    "streets[\"nID\"] = range(len(streets))\n",
    "buildings['nID'] = mm.get_network_id(buildings, streets, 'nID', min_size=300)  # \n",
    "tessellation = tessellation.merge(buildings[['uID', 'nID']], on='uID', how='left')"
   ]
  },
  {
   "cell_type": "code",
   "execution_count": null,
   "metadata": {},
   "outputs": [],
   "source": [
    "path = 'files/geometry.gpkg'\n",
    "tessellation.to_file(path, layer='tessellation', driver='GPKG')\n",
    "buildings.to_file(path, layer='buildings', driver='GPKG')\n",
    "blocks_df.to_file(path, layer='blocks', driver='GPKG')"
   ]
  }
 ],
 "metadata": {
  "language_info": {
   "codemirror_mode": {
    "name": "ipython",
    "version": 3
   },
   "file_extension": ".py",
   "mimetype": "text/x-python",
   "name": "python",
   "nbconvert_exporter": "python",
   "pygments_lexer": "ipython3",
   "version": "3.8.2-final"
  },
  "orig_nbformat": 2,
  "kernelspec": {
   "name": "geo_dev",
   "display_name": "geo_dev"
  }
 },
 "nbformat": 4,
 "nbformat_minor": 2
}