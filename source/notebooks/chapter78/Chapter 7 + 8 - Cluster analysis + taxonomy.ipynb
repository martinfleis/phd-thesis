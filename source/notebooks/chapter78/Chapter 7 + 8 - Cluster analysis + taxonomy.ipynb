{
 "cells": [
  {
   "cell_type": "code",
   "execution_count": null,
   "metadata": {},
   "outputs": [],
   "source": [
    "import geopandas as gpd\n",
    "import seaborn as sns\n",
    "import matplotlib.pyplot as plt\n",
    "import pandas as pd\n",
    "from sklearn import preprocessing\n",
    "import numpy as np\n",
    "from sklearn.mixture import GaussianMixture"
   ]
  },
  {
   "cell_type": "code",
   "execution_count": null,
   "metadata": {},
   "outputs": [],
   "source": [
    "path = 'files/contextual.parquet'"
   ]
  },
  {
   "cell_type": "code",
   "execution_count": null,
   "metadata": {},
   "outputs": [],
   "source": [
    "data = pd.read_parquet(path)"
   ]
  },
  {
   "cell_type": "code",
   "execution_count": null,
   "metadata": {},
   "outputs": [],
   "source": [
    "# normalise data\n",
    "\n",
    "x = data.values\n",
    "scaler = preprocessing.StandardScaler()\n",
    "cols = list(data.columns)\n",
    "data[cols] = scaler.fit_transform(data[cols])"
   ]
  },
  {
   "cell_type": "markdown",
   "metadata": {},
   "source": [
    "We have now normalised data, let's save them."
   ]
  },
  {
   "cell_type": "code",
   "execution_count": null,
   "metadata": {},
   "outputs": [],
   "source": [
    "data.to_parquet('files/contex_data_norm.parquet')"
   ]
  },
  {
   "cell_type": "code",
   "execution_count": null,
   "metadata": {},
   "outputs": [],
   "source": [
    "bic = pd.DataFrame(columns=['n', 'bic', 'run'])\n",
    "ix = 0\n",
    "\n",
    "n_components_range = range(2, 40)\n",
    "gmmruns = 3"
   ]
  },
  {
   "cell_type": "markdown",
   "metadata": {},
   "source": [
    "Measure BIC to estimate optimal number of clusters."
   ]
  },
  {
   "cell_type": "code",
   "execution_count": null,
   "metadata": {},
   "outputs": [],
   "source": [
    "sample = data\n",
    "for n_components in n_components_range:\n",
    "    for i in range(gmmruns):\n",
    "        gmm = GaussianMixture(n_components=n_components, covariance_type=\"full\", max_iter=200, n_init=1, verbose=1)\n",
    "        fitted = gmm.fit(sample)\n",
    "        bicnum = gmm.bic(data)\n",
    "        bic.loc[ix] = [n_components, bicnum, i]\n",
    "        ix += 1\n",
    "\n",
    "        print(n_components, i, \"BIC:\", bicnum)"
   ]
  },
  {
   "cell_type": "code",
   "execution_count": null,
   "metadata": {},
   "outputs": [],
   "source": [
    "bic.to_csv('files/complete_BIC.csv')"
   ]
  },
  {
   "cell_type": "markdown",
   "metadata": {},
   "source": [
    "Plot BIC values"
   ]
  },
  {
   "cell_type": "code",
   "execution_count": null,
   "metadata": {},
   "outputs": [],
   "source": [
    "import seaborn as sns\n",
    "import matplotlib.pyplot as plt\n",
    "\n",
    "fig, ax = plt.subplots(figsize=(16, 16))\n",
    "sns.lineplot(ax=ax, x='n', y='bic', data=bic)\n",
    "plt.savefig('files/complete_BIC.pdf')"
   ]
  },
  {
   "cell_type": "markdown",
   "metadata": {},
   "source": [
    "## Clustering"
   ]
  },
  {
   "cell_type": "code",
   "execution_count": null,
   "metadata": {},
   "outputs": [],
   "source": [
    "n = 30\n",
    "\n",
    "gmm = GaussianMixture(n_components=n, covariance_type=\"full\", max_iter=200, n_init=5, verbose=1)\n",
    "fitted = gmm.fit(data)"
   ]
  },
  {
   "cell_type": "code",
   "execution_count": null,
   "metadata": {},
   "outputs": [],
   "source": [
    "data['cluster'] = gmm.predict(data)"
   ]
  },
  {
   "cell_type": "code",
   "execution_count": null,
   "metadata": {},
   "outputs": [],
   "source": [
    "data.reset_index()[['cluster', 'uID']].to_csv('files/200309_clusters_complete_n30.csv')"
   ]
  },
  {
   "cell_type": "markdown",
   "metadata": {},
   "source": [
    "## Dendrogram"
   ]
  },
  {
   "cell_type": "code",
   "execution_count": null,
   "metadata": {},
   "outputs": [],
   "source": [
    "from scipy.cluster import hierarchy\n",
    "import matplotlib.pyplot as plt"
   ]
  },
  {
   "cell_type": "code",
   "execution_count": null,
   "metadata": {},
   "outputs": [],
   "source": [
    "clusters = data.reset_index()[['cluster', 'uID']]"
   ]
  },
  {
   "cell_type": "markdown",
   "metadata": {},
   "source": [
    "Save to pdf."
   ]
  },
  {
   "cell_type": "code",
   "execution_count": null,
   "metadata": {},
   "outputs": [],
   "source": [
    "group = data.groupby('cluster').mean()\n",
    "Z = hierarchy.linkage(group, 'ward')\n",
    "plt.figure(figsize=(25, 10))\n",
    "dn = hierarchy.dendrogram(Z, color_threshold=30, labels=group.index)\n",
    "\n",
    "plt.savefig('tree.pdf')"
   ]
  }
 ],
 "metadata": {
  "kernelspec": {
   "display_name": "geo_dev",
   "language": "python",
   "name": "geo_dev"
  },
  "language_info": {
   "codemirror_mode": {
    "name": "ipython",
    "version": 3
   },
   "file_extension": ".py",
   "mimetype": "text/x-python",
   "name": "python",
   "nbconvert_exporter": "python",
   "pygments_lexer": "ipython3",
   "version": "3.7.6"
  }
 },
 "nbformat": 4,
 "nbformat_minor": 4
}
