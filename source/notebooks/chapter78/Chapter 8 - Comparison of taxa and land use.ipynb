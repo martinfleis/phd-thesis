{
 "cells": [
  {
   "cell_type": "code",
   "execution_count": 1,
   "metadata": {},
   "outputs": [],
   "source": [
    "import pandas as pd\n",
    "import geopandas as gpd\n",
    "import seaborn as sns\n",
    "import matplotlib.pyplot as plt\n",
    "import husl\n",
    "from random import shuffle\n",
    "from legendgram import legendgram\n",
    "import mapclassify\n",
    "from matplotlib_scalebar.scalebar import ScaleBar\n",
    "from matplotlib.colors import ListedColormap\n",
    "from tqdm import tqdm"
   ]
  },
  {
   "cell_type": "code",
   "execution_count": 2,
   "metadata": {},
   "outputs": [],
   "source": [
    "clusters = pd.read_csv('/Users/martin/Dropbox/Academia/Data/Geo/Prague/Clustering/complete data/200218_clusters_complete_n20.csv', index_col=0)"
   ]
  },
  {
   "cell_type": "code",
   "execution_count": 3,
   "metadata": {},
   "outputs": [],
   "source": [
    "landuse = pd.read_csv('/Users/martin/Dropbox/Academia/Data/Geo/Prague/Validation/land_use.csv', index_col=0)"
   ]
  },
  {
   "cell_type": "code",
   "execution_count": 5,
   "metadata": {},
   "outputs": [
    {
     "data": {
      "text/plain": [
       "(123,)"
      ]
     },
     "execution_count": 5,
     "metadata": {},
     "output_type": "execute_result"
    }
   ],
   "source": [
    "landuse.KOD.unique().shape"
   ]
  },
  {
   "cell_type": "code",
   "execution_count": 4,
   "metadata": {},
   "outputs": [],
   "source": [
    "joined = clusters.merge(landuse[['uID', 'KOD']], on='uID', how='left')"
   ]
  },
  {
   "cell_type": "code",
   "execution_count": 5,
   "metadata": {},
   "outputs": [
    {
     "data": {
      "text/html": [
       "<div>\n",
       "<style scoped>\n",
       "    .dataframe tbody tr th:only-of-type {\n",
       "        vertical-align: middle;\n",
       "    }\n",
       "\n",
       "    .dataframe tbody tr th {\n",
       "        vertical-align: top;\n",
       "    }\n",
       "\n",
       "    .dataframe thead th {\n",
       "        text-align: right;\n",
       "    }\n",
       "</style>\n",
       "<table border=\"1\" class=\"dataframe\">\n",
       "  <thead>\n",
       "    <tr style=\"text-align: right;\">\n",
       "      <th></th>\n",
       "      <th>uID</th>\n",
       "      <th>cluster</th>\n",
       "      <th>KOD</th>\n",
       "    </tr>\n",
       "  </thead>\n",
       "  <tbody>\n",
       "    <tr>\n",
       "      <th>0</th>\n",
       "      <td>0</td>\n",
       "      <td>1</td>\n",
       "      <td>PRR</td>\n",
       "    </tr>\n",
       "    <tr>\n",
       "      <th>1</th>\n",
       "      <td>1</td>\n",
       "      <td>11</td>\n",
       "      <td>BD</td>\n",
       "    </tr>\n",
       "    <tr>\n",
       "      <th>2</th>\n",
       "      <td>2</td>\n",
       "      <td>13</td>\n",
       "      <td>BRR</td>\n",
       "    </tr>\n",
       "    <tr>\n",
       "      <th>3</th>\n",
       "      <td>3</td>\n",
       "      <td>18</td>\n",
       "      <td>BRR</td>\n",
       "    </tr>\n",
       "  </tbody>\n",
       "</table>\n",
       "</div>"
      ],
      "text/plain": [
       "   uID  cluster  KOD\n",
       "0    0        1  PRR\n",
       "1    1       11   BD\n",
       "2    2       13  BRR\n",
       "3    3       18  BRR"
      ]
     },
     "execution_count": 5,
     "metadata": {},
     "output_type": "execute_result"
    }
   ],
   "source": [
    "joined.head(4)"
   ]
  },
  {
   "cell_type": "code",
   "execution_count": 5,
   "metadata": {},
   "outputs": [],
   "source": [
    "counts = joined.KOD.value_counts()"
   ]
  },
  {
   "cell_type": "code",
   "execution_count": 49,
   "metadata": {},
   "outputs": [
    {
     "data": {
      "text/plain": [
       "Index(['BRR', 'BD', 'ZHB', 'BRV', 'PND', 'SLK', 'SAM', 'PRR', 'BQ', 'SLU',\n",
       "       'RAZ', 'XO', 'PRS', 'SQ', 'ZHV'],\n",
       "      dtype='object')"
      ]
     },
     "execution_count": 49,
     "metadata": {},
     "output_type": "execute_result"
    }
   ],
   "source": [
    "counts[counts>1000].index"
   ]
  },
  {
   "cell_type": "markdown",
   "metadata": {},
   "source": [
    "Landuse is not a great resource, but there is a clear link between taxa and use."
   ]
  },
  {
   "cell_type": "code",
   "execution_count": 20,
   "metadata": {},
   "outputs": [],
   "source": [
    "brr = joined[joined.KOD == 'BRR']"
   ]
  },
  {
   "cell_type": "code",
   "execution_count": null,
   "metadata": {},
   "outputs": [],
   "source": [
    "counts = brr.cluster.value_counts(normalize=True)\n",
    "\n",
    "sns.set(context=\"paper\", style=\"ticks\", rc={'patch.force_edgecolor': False})\n",
    "fig, ax = plt.subplots(figsize=(10, 5))\n",
    "sns.barplot(ax=ax, x=counts.index, y=counts, order=counts.index, palette=symbology)\n",
    "sns.despine(offset=10)\n",
    "plt.ylabel('count')\n",
    "plt.xlabel('cluster')"
   ]
  },
  {
   "cell_type": "code",
   "execution_count": 29,
   "metadata": {},
   "outputs": [],
   "source": [
    "bd = joined[joined.KOD == 'BD']"
   ]
  },
  {
   "cell_type": "code",
   "execution_count": null,
   "metadata": {},
   "outputs": [],
   "source": [
    "counts = bd.cluster.value_counts(normalize=True)\n",
    "\n",
    "sns.set(context=\"paper\", style=\"ticks\", rc={'patch.force_edgecolor': False})\n",
    "fig, ax = plt.subplots(figsize=(10, 5))\n",
    "sns.barplot(ax=ax, x=counts.index, y=counts, order=counts.index, palette=symbology)\n",
    "sns.despine(offset=10)\n",
    "plt.ylabel('count')\n",
    "plt.xlabel('cluster')"
   ]
  },
  {
   "cell_type": "code",
   "execution_count": null,
   "metadata": {},
   "outputs": [],
   "source": [
    "s = joined[joined.KOD == 'PND']\n",
    "\n",
    "counts = s.cluster.value_counts(normalize=True)\n",
    "\n",
    "sns.set(context=\"paper\", style=\"ticks\", rc={'patch.force_edgecolor': False})\n",
    "fig, ax = plt.subplots(figsize=(10, 5))\n",
    "sns.barplot(ax=ax, x=counts.index, y=counts, order=counts.index, palette=symbology)\n",
    "sns.despine(offset=10)\n",
    "plt.ylabel('count')\n",
    "plt.xlabel('cluster')"
   ]
  },
  {
   "cell_type": "code",
   "execution_count": 11,
   "metadata": {},
   "outputs": [],
   "source": [
    "buildings = gpd.read_file('/Users/martin/Dropbox/Academia/Data/Geo/Prague/Clustering/geometry.gpkg', layer='buildings')"
   ]
  },
  {
   "cell_type": "code",
   "execution_count": 12,
   "metadata": {},
   "outputs": [],
   "source": [
    "buildings = buildings.merge(joined, on='uID', how='left')"
   ]
  },
  {
   "cell_type": "markdown",
   "metadata": {},
   "source": [
    "# get the most frequent use within 3 steps"
   ]
  },
  {
   "cell_type": "code",
   "execution_count": 64,
   "metadata": {},
   "outputs": [],
   "source": [
    "import libpysal\n",
    "\n",
    "from tqdm import tqdm"
   ]
  },
  {
   "cell_type": "code",
   "execution_count": 56,
   "metadata": {},
   "outputs": [
    {
     "name": "stderr",
     "output_type": "stream",
     "text": [
      "/Users/martin/anaconda3/envs/geo_dev/lib/python3.8/site-packages/libpysal/weights/weights.py:165: UserWarning: The weights matrix is not fully connected: \n",
      " There are 128 disconnected components.\n",
      "  warnings.warn(message)\n"
     ]
    }
   ],
   "source": [
    "spatial_weights = libpysal.io.open('/Users/martin/Dropbox/Academia/Data/Geo/Prague/Clustering/queen3_uID.gal', 'r').read()\n",
    "spatial_weights.neighbors = {int(k): [int(i) for i in v] for k, v in spatial_weights.neighbors.items()}"
   ]
  },
  {
   "cell_type": "code",
   "execution_count": 13,
   "metadata": {},
   "outputs": [],
   "source": [
    "buildings = buildings.set_index('uID')"
   ]
  },
  {
   "cell_type": "code",
   "execution_count": 75,
   "metadata": {},
   "outputs": [
    {
     "name": "stderr",
     "output_type": "stream",
     "text": [
      "100%|██████████| 140408/140408 [04:36<00:00, 507.72it/s]\n"
     ]
    }
   ],
   "source": [
    "results = []\n",
    "for index, row in tqdm(buildings.iterrows(), total=buildings.shape[0]):\n",
    "    try:\n",
    "        neighbours = spatial_weights.neighbors[index].copy()\n",
    "        neighbours.append(index)\n",
    "\n",
    "        uses = buildings.loc[neighbours]['KOD']\n",
    "        results.append(uses.value_counts().index[0])\n",
    "    except:\n",
    "        results.append(None)\n",
    "buildings['land_use_3'] = results    "
   ]
  },
  {
   "cell_type": "code",
   "execution_count": 77,
   "metadata": {},
   "outputs": [],
   "source": [
    "buildings['land_use_3'].to_csv('/Users/martin/Dropbox/Academia/Data/Geo/Prague/Validation/land_use_interpolated.csv')"
   ]
  },
  {
   "cell_type": "code",
   "execution_count": null,
   "metadata": {},
   "outputs": [],
   "source": [
    "interp = pd.read_csv('/Users/martin/Dropbox/Academia/Data/Geo/Prague/Validation/land_use_interpolated.csv', index_col=0)\n",
    "interp"
   ]
  },
  {
   "cell_type": "code",
   "execution_count": null,
   "metadata": {},
   "outputs": [],
   "source": [
    "buildings['land_use_3'] = interp"
   ]
  },
  {
   "cell_type": "code",
   "execution_count": 16,
   "metadata": {},
   "outputs": [],
   "source": [
    "counts = buildings.land_use_3.value_counts()"
   ]
  },
  {
   "cell_type": "code",
   "execution_count": 19,
   "metadata": {},
   "outputs": [
    {
     "data": {
      "text/plain": [
       "BRR    84085\n",
       "BD     39963\n",
       "BRV     2965\n",
       "PRR     2035\n",
       "PND     1557\n",
       "Name: land_use_3, dtype: int64"
      ]
     },
     "execution_count": 19,
     "metadata": {},
     "output_type": "execute_result"
    }
   ],
   "source": [
    "counts[counts>1400]"
   ]
  },
  {
   "cell_type": "code",
   "execution_count": 17,
   "metadata": {},
   "outputs": [],
   "source": [
    "generalised = []\n",
    "major = counts[counts>1400].index\n",
    "for _, use in buildings.land_use_3.iteritems():\n",
    "    if use in major:\n",
    "        generalised.append(use)\n",
    "    else:\n",
    "        generalised.append('other')"
   ]
  },
  {
   "cell_type": "code",
   "execution_count": 18,
   "metadata": {},
   "outputs": [],
   "source": [
    "buildings['lu_gen'] = generalised"
   ]
  },
  {
   "cell_type": "code",
   "execution_count": 28,
   "metadata": {},
   "outputs": [],
   "source": [
    "import numpy as np\n",
    "\n",
    "def show_values_on_bars(axs):\n",
    "    def _show_on_single_plot(ax):        \n",
    "        for p in ax.patches:\n",
    "            _x = p.get_x() + p.get_width() / 2\n",
    "            _y = p.get_y() + p.get_height() + 0.02\n",
    "            value = '{:.2f}'.format(p.get_height())\n",
    "            ax.text(_x, _y, value, ha=\"center\") \n",
    "\n",
    "    if isinstance(axs, np.ndarray):\n",
    "        for idx, ax in np.ndenumerate(axs):\n",
    "            _show_on_single_plot(ax)\n",
    "    else:\n",
    "        _show_on_single_plot(axs)\n",
    "\n",
    "colors = [(257, 71, 27), (98, 93, 78), (14, 79, 58),\n",
    "  (75, 90, 85), (347, 72, 60), (246, 79, 60)]\n",
    "pal = [husl.husl_to_hex(*color) for color in colors]"
   ]
  },
  {
   "cell_type": "code",
   "execution_count": null,
   "metadata": {},
   "outputs": [],
   "source": [
    "# save all clusters\n",
    "for cl in range(20):\n",
    "    data = buildings.loc[buildings['cluster'].isin([cl])]['lu_gen'].value_counts(sort=False, normalize=True)\n",
    "\n",
    "    sns.set(context=\"paper\", style=\"ticks\", rc={'patch.force_edgecolor': False})\n",
    "    fig, ax = plt.subplots(figsize=(10, 5))\n",
    "    sns.barplot(ax=ax, x=data.index, y=data, order=['BD', 'BRR', 'BRV', 'PND', 'PRR', 'other'],\n",
    "                palette=pal)\n",
    "    sns.despine(offset=10)\n",
    "    ax.set_xticklabels(['Multi-family housing','Single-family housing','Villas','Industry small','Industry large','Other'])\n",
    "    plt.ylabel('frequency')\n",
    "    plt.xlabel('land use category')\n",
    "    plt.ylim(0, 1)\n",
    "    show_values_on_bars(ax)\n",
    "    for ext in ['pdf', 'png']:\n",
    "        plt.savefig('figures/PRG_cluster_' + str(cl) + '_landuse.' + ext, bbox_inches='tight')\n",
    "    plt.close()"
   ]
  },
  {
   "cell_type": "code",
   "execution_count": null,
   "metadata": {},
   "outputs": [],
   "source": [
    "fig, ax = plt.subplots(2, 2, figsize=(14, 10))\n",
    "labels = ['Multi-family','Single-family','Villas','Industry small','Industry large','Other']\n",
    "\n",
    "data = buildings.loc[buildings['cluster'].isin([11, 15, 5])]['lu_gen'].value_counts(sort=False, normalize=True)\n",
    "sns.barplot(ax=ax[0, 0], x=data.index, y=data, order=['BD', 'BRR', 'BRV', 'PND', 'PRR', 'other'],\n",
    "                palette=pal)\n",
    "sns.despine(offset=10)\n",
    "ax[0,0].set_ylabel('frequency')\n",
    "ax[0,0].set_title('compact city')\n",
    "ax[0,0].set_ylim(0, 1)\n",
    "show_values_on_bars(ax[0, 0])\n",
    "ax[0,0].set_xticklabels(labels, rotation=45)\n",
    "\n",
    "data = buildings.loc[buildings['cluster'].isin([3, 0, 8, 9, 13, 17])]['lu_gen'].value_counts(sort=False, normalize=True)\n",
    "sns.barplot(ax=ax[0, 1], x=data.index, y=data, order=['BD', 'BRR', 'BRV', 'PND', 'PRR', 'other'], palette=pal)\n",
    "sns.despine(offset=10)\n",
    "ax[0,1].set_ylabel('frequency')\n",
    "ax[0,1].set_title('low-rise city')\n",
    "ax[0,1].set_xticklabels(labels)\n",
    "ax[0,1].set_ylim(0, 1)\n",
    "show_values_on_bars(ax[0, 1])\n",
    "\n",
    "data = buildings.loc[buildings['cluster'].isin([1, 19])]['lu_gen'].value_counts(sort=False, normalize=True)\n",
    "sns.barplot(ax=ax[1, 0], x=data.index, y=data, order=['BD', 'BRR', 'BRV', 'PND', 'PRR', 'other'], palette=pal)\n",
    "sns.despine(offset=10)\n",
    "ax[1,0].set_ylabel('frequency')\n",
    "ax[1,0].set_xticklabels(labels)\n",
    "\n",
    "ax[1,0].set_title('industrial city')\n",
    "ax[1,0].set_ylim(0, 1)\n",
    "show_values_on_bars(ax[1, 0])\n",
    "\n",
    "data = buildings.loc[buildings['cluster'].isin([12, 14, 2, 10])]['lu_gen'].value_counts(sort=False, normalize=True)\n",
    "sns.barplot(ax=ax[1, 1], x=data.index, y=data, order=['BD', 'BRR', 'BRV', 'PND', 'PRR', 'other'], palette=pal)\n",
    "sns.despine(offset=10)\n",
    "ax[1,1].set_ylabel('frequency')\n",
    "ax[1,1].set_xticklabels(labels)\n",
    "ax[1,1].set_title('heterogenous dense city branch')\n",
    "ax[1,1].set_ylim(0, 1)\n",
    "show_values_on_bars(ax[1, 1])\n",
    "\n",
    "plt.tight_layout()\n",
    "plt.savefig('figures/PRG_branch_landuse_subplot.pdf')"
   ]
  },
  {
   "cell_type": "code",
   "execution_count": null,
   "metadata": {},
   "outputs": [],
   "source": [
    "fig, ax = plt.subplots(2, 2, figsize=(14, 10))\n",
    "labels = ['Multi-family','Single-family','Villas','Industry small','Industry large','Other']\n",
    "\n",
    "data = buildings.loc[buildings['cluster'].isin([11])]['lu_gen'].value_counts(sort=False, normalize=True)\n",
    "sns.barplot(ax=ax[0, 0], x=data.index, y=data, order=['BD', 'BRR', 'BRV', 'PND', 'PRR', 'other'],\n",
    "                palette=pal)\n",
    "sns.despine(offset=10)\n",
    "ax[0,0].set_ylabel('frequency')\n",
    "ax[0,0].set_title('cluster 11')\n",
    "ax[0,0].set_ylim(0, 1)\n",
    "show_values_on_bars(ax[0, 0])\n",
    "ax[0,0].set_xticklabels(labels, rotation=45)\n",
    "\n",
    "data = buildings.loc[buildings['cluster'].isin([5])]['lu_gen'].value_counts(sort=False, normalize=True)\n",
    "sns.barplot(ax=ax[0, 1], x=data.index, y=data, order=['BD', 'BRR', 'BRV', 'PND', 'PRR', 'other'], palette=pal)\n",
    "sns.despine(offset=10)\n",
    "ax[0,1].set_ylabel('frequency')\n",
    "ax[0,1].set_title('cluster 5')\n",
    "ax[0,1].set_xticklabels(labels)\n",
    "ax[0,1].set_ylim(0, 1)\n",
    "show_values_on_bars(ax[0, 1])\n",
    "\n",
    "data = buildings.loc[buildings['cluster'].isin([12])]['lu_gen'].value_counts(sort=False, normalize=True)\n",
    "sns.barplot(ax=ax[1, 0], x=data.index, y=data, order=['BD', 'BRR', 'BRV', 'PND', 'PRR', 'other'], palette=pal)\n",
    "sns.despine(offset=10)\n",
    "ax[1,0].set_ylabel('frequency')\n",
    "ax[1,0].set_xticklabels(labels)\n",
    "\n",
    "ax[1,0].set_title('cluster 12')\n",
    "ax[1,0].set_ylim(0, 1)\n",
    "show_values_on_bars(ax[1, 0])\n",
    "\n",
    "data = buildings.loc[buildings['cluster'].isin([13])]['lu_gen'].value_counts(sort=False, normalize=True)\n",
    "sns.barplot(ax=ax[1, 1], x=data.index, y=data, order=['BD', 'BRR', 'BRV', 'PND', 'PRR', 'other'], palette=pal)\n",
    "sns.despine(offset=10)\n",
    "ax[1,1].set_ylabel('frequency')\n",
    "ax[1,1].set_xticklabels(labels)\n",
    "ax[1,1].set_title('cluster 13')\n",
    "ax[1,1].set_ylim(0, 1)\n",
    "show_values_on_bars(ax[1, 1])\n",
    "\n",
    "plt.tight_layout()\n",
    "plt.savefig('figures/PRG_cluster_landuse_subplot.pdf')"
   ]
  },
  {
   "cell_type": "code",
   "execution_count": null,
   "metadata": {},
   "outputs": [],
   "source": [
    "colors = [(257, 71, 27), (98, 93, 78), (14, 79, 58), (26, 0, 50),\n",
    "          (75, 90, 85), (347, 72, 60), (246, 79, 60)]\n",
    "color = (257, 71, 27)  # here for arrow, title, scalebar\n",
    "\n",
    "# plotting\n",
    "c = husl.husl_to_hex(*color)\n",
    "\n",
    "cmap = ListedColormap([husl.husl_to_hex(*color) for color in colors])  \n",
    "for cl in tqdm(range(20), total=20):\n",
    "\n",
    "    # requires geopandas PR 1159\n",
    "    sub = buildings[buildings.cluster == cl]\n",
    "    bounds = sub.total_bounds\n",
    "    ax = sub.plot('lu_gen', categorical=True, figsize=(30, 30), cmap=cmap, zorder=2,\n",
    "                  categories=['BD', 'BRR', 'BRV', 'PND', 'PRR', 'other'], legend=True,\n",
    "                    legend_kwds=dict(loc='center right', frameon=False))\n",
    "    buildings.cx[bounds[0]:bounds[2], bounds[1]:bounds[3]].plot('lu_gen',ax=ax, categorical=True, cmap=cmap,\n",
    "                    alpha=.2, zorder=1,\n",
    "                    categories=['BD', 'BRR', 'BRV', 'PND', 'PRR', 'other'])\n",
    "    ax.set_axis_off()\n",
    "\n",
    "\n",
    "    # add scalebar\n",
    "    scalebar = ScaleBar(dx=1,\n",
    "                        color=c,\n",
    "                        location=1,\n",
    "                        height_fraction=0.001,\n",
    "                        #fixed_value=1000,\n",
    "                        label='cluster {} and historical period'.format(cl),\n",
    "                        label_loc='bottom'\n",
    "                        )\n",
    "    ax.add_artist(scalebar)\n",
    "\n",
    "    # add arrow\n",
    "    north_arrow(plt.gcf(), ax, -7.5, legend_size=(.04,.04), outline=1, edgecolor=c, facecolor=c)\n",
    "    for ext in ['pdf', 'png']:\n",
    "        plt.savefig('figures/PRG_cluster_{}_landuse_map.'.format(cl) + ext, bbox_inches='tight')\n",
    "    plt.close()\n"
   ]
  },
  {
   "cell_type": "markdown",
   "metadata": {},
   "source": [
    "## statistics"
   ]
  },
  {
   "cell_type": "code",
   "execution_count": 125,
   "metadata": {},
   "outputs": [
    {
     "data": {
      "text/html": [
       "<div>\n",
       "<style scoped>\n",
       "    .dataframe tbody tr th:only-of-type {\n",
       "        vertical-align: middle;\n",
       "    }\n",
       "\n",
       "    .dataframe tbody tr th {\n",
       "        vertical-align: top;\n",
       "    }\n",
       "\n",
       "    .dataframe thead th {\n",
       "        text-align: right;\n",
       "    }\n",
       "</style>\n",
       "<table border=\"1\" class=\"dataframe\">\n",
       "  <thead>\n",
       "    <tr style=\"text-align: right;\">\n",
       "      <th></th>\n",
       "      <th>cluster</th>\n",
       "      <th>lu_gen</th>\n",
       "    </tr>\n",
       "    <tr>\n",
       "      <th>uID</th>\n",
       "      <th></th>\n",
       "      <th></th>\n",
       "    </tr>\n",
       "  </thead>\n",
       "  <tbody>\n",
       "    <tr>\n",
       "      <th>0</th>\n",
       "      <td>1.0</td>\n",
       "      <td>PRR</td>\n",
       "    </tr>\n",
       "    <tr>\n",
       "      <th>1</th>\n",
       "      <td>11.0</td>\n",
       "      <td>BD</td>\n",
       "    </tr>\n",
       "    <tr>\n",
       "      <th>2</th>\n",
       "      <td>13.0</td>\n",
       "      <td>BRR</td>\n",
       "    </tr>\n",
       "    <tr>\n",
       "      <th>3</th>\n",
       "      <td>18.0</td>\n",
       "      <td>BRR</td>\n",
       "    </tr>\n",
       "    <tr>\n",
       "      <th>4</th>\n",
       "      <td>14.0</td>\n",
       "      <td>BD</td>\n",
       "    </tr>\n",
       "    <tr>\n",
       "      <th>...</th>\n",
       "      <td>...</td>\n",
       "      <td>...</td>\n",
       "    </tr>\n",
       "    <tr>\n",
       "      <th>140457</th>\n",
       "      <td>11.0</td>\n",
       "      <td>BD</td>\n",
       "    </tr>\n",
       "    <tr>\n",
       "      <th>140458</th>\n",
       "      <td>13.0</td>\n",
       "      <td>BRR</td>\n",
       "    </tr>\n",
       "    <tr>\n",
       "      <th>140459</th>\n",
       "      <td>5.0</td>\n",
       "      <td>BD</td>\n",
       "    </tr>\n",
       "    <tr>\n",
       "      <th>140460</th>\n",
       "      <td>5.0</td>\n",
       "      <td>BD</td>\n",
       "    </tr>\n",
       "    <tr>\n",
       "      <th>140461</th>\n",
       "      <td>4.0</td>\n",
       "      <td>BRR</td>\n",
       "    </tr>\n",
       "  </tbody>\n",
       "</table>\n",
       "<p>140408 rows × 2 columns</p>\n",
       "</div>"
      ],
      "text/plain": [
       "        cluster lu_gen\n",
       "uID                   \n",
       "0           1.0    PRR\n",
       "1          11.0     BD\n",
       "2          13.0    BRR\n",
       "3          18.0    BRR\n",
       "4          14.0     BD\n",
       "...         ...    ...\n",
       "140457     11.0     BD\n",
       "140458     13.0    BRR\n",
       "140459      5.0     BD\n",
       "140460      5.0     BD\n",
       "140461      4.0    BRR\n",
       "\n",
       "[140408 rows x 2 columns]"
      ]
     },
     "execution_count": 125,
     "metadata": {},
     "output_type": "execute_result"
    }
   ],
   "source": [
    "buildings[['cluster', 'lu_gen']]"
   ]
  },
  {
   "cell_type": "code",
   "execution_count": 129,
   "metadata": {},
   "outputs": [],
   "source": [
    "import scipy.stats as ss\n",
    "\n",
    "def cramers_v(x, y):\n",
    "    confusion_matrix = pd.crosstab(x,y)\n",
    "    chi2 = ss.chi2_contingency(confusion_matrix)[0]\n",
    "    n = confusion_matrix.sum().sum()\n",
    "    phi2 = chi2/n\n",
    "    r,k = confusion_matrix.shape\n",
    "    phi2corr = max(0, phi2-((k-1)*(r-1))/(n-1))\n",
    "    rcorr = r-((r-1)**2)/(n-1)\n",
    "    kcorr = k-((k-1)**2)/(n-1)\n",
    "    return np.sqrt(phi2corr/min((kcorr-1),(rcorr-1)))"
   ]
  },
  {
   "cell_type": "code",
   "execution_count": 130,
   "metadata": {},
   "outputs": [
    {
     "data": {
      "text/plain": [
       "0.5009730826143093"
      ]
     },
     "execution_count": 130,
     "metadata": {},
     "output_type": "execute_result"
    }
   ],
   "source": [
    "cramers_v(buildings.cluster, buildings.lu_gen)"
   ]
  },
  {
   "cell_type": "markdown",
   "metadata": {},
   "source": [
    "The resulting value of 0.5 indicates moderate to high relationship between clustering and generalised land use."
   ]
  },
  {
   "cell_type": "markdown",
   "metadata": {},
   "source": [
    "#### Chi-square test of independence of variables in a contingency table"
   ]
  },
  {
   "cell_type": "code",
   "execution_count": 137,
   "metadata": {},
   "outputs": [],
   "source": [
    "confusion_matrix = pd.crosstab(buildings.cluster, buildings.lu_gen)\n",
    "chi, p, dof, exp = ss.chi2_contingency(confusion_matrix)"
   ]
  },
  {
   "cell_type": "code",
   "execution_count": 138,
   "metadata": {},
   "outputs": [
    {
     "data": {
      "text/plain": [
       "176165.83103092626"
      ]
     },
     "execution_count": 138,
     "metadata": {},
     "output_type": "execute_result"
    }
   ],
   "source": [
    "chi"
   ]
  },
  {
   "cell_type": "code",
   "execution_count": 139,
   "metadata": {},
   "outputs": [
    {
     "data": {
      "text/plain": [
       "0.0"
      ]
     },
     "execution_count": 139,
     "metadata": {},
     "output_type": "execute_result"
    }
   ],
   "source": [
    "p"
   ]
  },
  {
   "cell_type": "code",
   "execution_count": 140,
   "metadata": {},
   "outputs": [
    {
     "data": {
      "text/plain": [
       "95"
      ]
     },
     "execution_count": 140,
     "metadata": {},
     "output_type": "execute_result"
    }
   ],
   "source": [
    "dof"
   ]
  },
  {
   "cell_type": "markdown",
   "metadata": {},
   "source": [
    "p-value is < 0.001\n",
    "\n",
    "there is a significant dependency between variables"
   ]
  }
 ],
 "metadata": {
  "kernelspec": {
   "display_name": "geo_dev",
   "language": "python",
   "name": "geo_dev"
  },
  "language_info": {
   "codemirror_mode": {
    "name": "ipython",
    "version": 3
   },
   "file_extension": ".py",
   "mimetype": "text/x-python",
   "name": "python",
   "nbconvert_exporter": "python",
   "pygments_lexer": "ipython3",
   "version": "3.7.6"
  }
 },
 "nbformat": 4,
 "nbformat_minor": 4
}
