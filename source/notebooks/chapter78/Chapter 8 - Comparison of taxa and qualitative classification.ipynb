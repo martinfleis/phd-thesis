{
 "cells": [
  {
   "cell_type": "code",
   "execution_count": 1,
   "metadata": {},
   "outputs": [],
   "source": [
    "import pandas as pd\n",
    "import geopandas as gpd\n",
    "import seaborn as sns\n",
    "import matplotlib.pyplot as plt\n",
    "import husl\n",
    "from legendgram import legendgram\n",
    "import mapclassify\n",
    "from matplotlib_scalebar.scalebar import ScaleBar\n",
    "from matplotlib.colors import ListedColormap\n",
    "from random import shuffle\n",
    "from tqdm import tqdm"
   ]
  },
  {
   "cell_type": "code",
   "execution_count": 2,
   "metadata": {},
   "outputs": [],
   "source": [
    "clusters = pd.read_csv('/Users/martin/Dropbox/Academia/Data/Geo/Prague/Clustering/complete data/200218_clusters_complete_n20.csv', index_col=0)"
   ]
  },
  {
   "cell_type": "code",
   "execution_count": 3,
   "metadata": {},
   "outputs": [],
   "source": [
    "file = '/Users/martin/Dropbox/Academia/Contracts/UAP Prague/2020.01_Zakázka MF/01_data/202004_Zakazka MF_predana data/20200421_ZakazkaMF_data_validacni.gdb'"
   ]
  },
  {
   "cell_type": "code",
   "execution_count": 4,
   "metadata": {},
   "outputs": [
    {
     "data": {
      "text/plain": [
       "['URK_LokalityStav_p', 'URK_SS_VyuzitiZakl_p', 'VyvojZastavby_p']"
      ]
     },
     "execution_count": 4,
     "metadata": {},
     "output_type": "execute_result"
    }
   ],
   "source": [
    "import fiona\n",
    "fiona.listlayers(file)"
   ]
  },
  {
   "cell_type": "code",
   "execution_count": 5,
   "metadata": {},
   "outputs": [],
   "source": [
    "qual = gpd.read_file(file, layer='URK_LokalityStav_p')"
   ]
  },
  {
   "cell_type": "code",
   "execution_count": 6,
   "metadata": {},
   "outputs": [],
   "source": [
    "buildings = gpd.read_file('/Users/martin/Dropbox/Academia/Data/Geo/Prague/Clustering/geometry.gpkg', layer='buildings')"
   ]
  },
  {
   "cell_type": "code",
   "execution_count": 7,
   "metadata": {},
   "outputs": [],
   "source": [
    "buildings['cent'] = buildings.centroid\n",
    "buildings = buildings.set_geometry('cent')"
   ]
  },
  {
   "cell_type": "code",
   "execution_count": 8,
   "metadata": {},
   "outputs": [],
   "source": [
    "buildings = buildings.to_crs(qual.crs)"
   ]
  },
  {
   "cell_type": "code",
   "execution_count": 9,
   "metadata": {},
   "outputs": [],
   "source": [
    "joined = gpd.sjoin(buildings, qual, how='left')"
   ]
  },
  {
   "cell_type": "code",
   "execution_count": 10,
   "metadata": {},
   "outputs": [],
   "source": [
    "joined = joined.merge(clusters, how='left', on='uID')"
   ]
  },
  {
   "cell_type": "code",
   "execution_count": 11,
   "metadata": {},
   "outputs": [
    {
     "data": {
      "text/html": [
       "<div>\n",
       "<style scoped>\n",
       "    .dataframe tbody tr th:only-of-type {\n",
       "        vertical-align: middle;\n",
       "    }\n",
       "\n",
       "    .dataframe tbody tr th {\n",
       "        vertical-align: top;\n",
       "    }\n",
       "\n",
       "    .dataframe thead th {\n",
       "        text-align: right;\n",
       "    }\n",
       "</style>\n",
       "<table border=\"1\" class=\"dataframe\">\n",
       "  <thead>\n",
       "    <tr style=\"text-align: right;\">\n",
       "      <th></th>\n",
       "      <th>uID</th>\n",
       "      <th>geometry</th>\n",
       "      <th>cent</th>\n",
       "      <th>index_right</th>\n",
       "      <th>ID</th>\n",
       "      <th>CISLO_TXT</th>\n",
       "      <th>NAZEV_STAV</th>\n",
       "      <th>ZASTAVENOST</th>\n",
       "      <th>VYUZITI_STAV</th>\n",
       "      <th>STRUKTURA_STAV</th>\n",
       "      <th>MIRA_STABILITY_STAV</th>\n",
       "      <th>TYP_MESTA</th>\n",
       "      <th>KRAJINA</th>\n",
       "      <th>Shape_Length</th>\n",
       "      <th>Shape_Area</th>\n",
       "      <th>cluster</th>\n",
       "    </tr>\n",
       "  </thead>\n",
       "  <tbody>\n",
       "    <tr>\n",
       "      <th>0</th>\n",
       "      <td>0</td>\n",
       "      <td>POLYGON ((-749844.585 -1052277.805, -749844.41...</td>\n",
       "      <td>POINT (-749841.681 -1052279.951)</td>\n",
       "      <td>233</td>\n",
       "      <td>16170</td>\n",
       "      <td>617</td>\n",
       "      <td>Cementárna Radotín</td>\n",
       "      <td>1</td>\n",
       "      <td>2</td>\n",
       "      <td>8</td>\n",
       "      <td>5</td>\n",
       "      <td>1.0</td>\n",
       "      <td>1</td>\n",
       "      <td>2815.203269</td>\n",
       "      <td>239855.665606</td>\n",
       "      <td>1.0</td>\n",
       "    </tr>\n",
       "    <tr>\n",
       "      <th>1</th>\n",
       "      <td>1</td>\n",
       "      <td>POLYGON ((-744449.580 -1042702.590, -744447.15...</td>\n",
       "      <td>POINT (-744432.289 -1042699.409)</td>\n",
       "      <td>702</td>\n",
       "      <td>10080</td>\n",
       "      <td>008</td>\n",
       "      <td>Malá Strana</td>\n",
       "      <td>1</td>\n",
       "      <td>1</td>\n",
       "      <td>1</td>\n",
       "      <td>4</td>\n",
       "      <td>1.0</td>\n",
       "      <td>1</td>\n",
       "      <td>5419.046731</td>\n",
       "      <td>692062.403477</td>\n",
       "      <td>11.0</td>\n",
       "    </tr>\n",
       "  </tbody>\n",
       "</table>\n",
       "</div>"
      ],
      "text/plain": [
       "   uID                                           geometry  \\\n",
       "0    0  POLYGON ((-749844.585 -1052277.805, -749844.41...   \n",
       "1    1  POLYGON ((-744449.580 -1042702.590, -744447.15...   \n",
       "\n",
       "                               cent  index_right     ID CISLO_TXT  \\\n",
       "0  POINT (-749841.681 -1052279.951)          233  16170       617   \n",
       "1  POINT (-744432.289 -1042699.409)          702  10080       008   \n",
       "\n",
       "           NAZEV_STAV  ZASTAVENOST  VYUZITI_STAV  STRUKTURA_STAV  \\\n",
       "0  Cementárna Radotín            1             2               8   \n",
       "1         Malá Strana            1             1               1   \n",
       "\n",
       "   MIRA_STABILITY_STAV  TYP_MESTA  KRAJINA  Shape_Length     Shape_Area  \\\n",
       "0                    5        1.0        1   2815.203269  239855.665606   \n",
       "1                    4        1.0        1   5419.046731  692062.403477   \n",
       "\n",
       "   cluster  \n",
       "0      1.0  \n",
       "1     11.0  "
      ]
     },
     "execution_count": 11,
     "metadata": {},
     "output_type": "execute_result"
    }
   ],
   "source": [
    "joined.head(2)"
   ]
  },
  {
   "cell_type": "code",
   "execution_count": 11,
   "metadata": {},
   "outputs": [],
   "source": [
    "joined = joined.set_geometry('geometry')"
   ]
  },
  {
   "cell_type": "markdown",
   "metadata": {},
   "source": [
    "## analyse"
   ]
  },
  {
   "cell_type": "code",
   "execution_count": 14,
   "metadata": {},
   "outputs": [],
   "source": [
    "import numpy as np\n",
    "\n",
    "def show_values_on_bars(axs):\n",
    "    def _show_on_single_plot(ax):        \n",
    "        for p in ax.patches:\n",
    "            _x = p.get_x() + p.get_width() / 2\n",
    "            _y = p.get_y() + p.get_height() + 0.02\n",
    "            value = '{:.2f}'.format(p.get_height())\n",
    "            ax.text(_x, _y, value, ha=\"center\") \n",
    "\n",
    "    if isinstance(axs, np.ndarray):\n",
    "        for idx, ax in np.ndenumerate(axs):\n",
    "            _show_on_single_plot(ax)\n",
    "    else:\n",
    "        _show_on_single_plot(axs)\n",
    "\n",
    "pal = cols"
   ]
  },
  {
   "cell_type": "code",
   "execution_count": 53,
   "metadata": {
    "collapsed": true,
    "jupyter": {
     "outputs_hidden": true
    }
   },
   "outputs": [
    {
     "data": {
      "image/png": "[encoded data removed]",
      "text/plain": [
       "<Figure size 720x360 with 1 Axes>"
      ]
     },
     "metadata": {},
     "output_type": "display_data"
    }
   ],
   "source": [
    "data = joined.loc[joined['cluster'].isin()]['STRUKTURA_STAV'].value_counts(sort=False, normalize=True)\n",
    "\n",
    "sns.set(context=\"paper\", style=\"ticks\", rc={'patch.force_edgecolor': False})\n",
    "fig, ax = plt.subplots(figsize=(10, 5))\n",
    "sns.barplot(ax=ax, x=data.index, y=data, order=data.index, palette=pal)\n",
    "sns.despine(offset=10)\n",
    "plt.ylabel('frequency')\n",
    "plt.xlabel('historical period')\n",
    "plt.ylim(0, 1)\n",
    "show_values_on_bars(ax)"
   ]
  },
  {
   "cell_type": "code",
   "execution_count": 14,
   "metadata": {},
   "outputs": [],
   "source": [
    "sample = joined.loc[joined['STRUKTURA_STAV'].isin([1, 2, 5, 6, 7, 8, 9])]"
   ]
  },
  {
   "cell_type": "code",
   "execution_count": null,
   "metadata": {},
   "outputs": [],
   "source": [
    "data = sample.loc[sample['cluster'].isin([11])]['STRUKTURA_STAV'].value_counts(sort=False, normalize=True)\n",
    "\n",
    "labels = ['organic', 'perimeter block', 'village', 'garden city', 'modernism', 'production', 'services']\n",
    "sns.set(context=\"paper\", style=\"ticks\", rc={'patch.force_edgecolor': False})\n",
    "fig, ax = plt.subplots(figsize=(10, 5))\n",
    "sns.barplot(ax=ax, x=data.index, y=data, order=[1, 2, 5, 6, 7, 8, 9], palette=pal)\n",
    "sns.despine(offset=10)\n",
    "plt.ylabel('frequency')\n",
    "plt.xlabel('qualitative typology')\n",
    "plt.ylim(0, 1)\n",
    "ax.set_xticklabels(labels)\n",
    "show_values_on_bars(ax)"
   ]
  },
  {
   "cell_type": "code",
   "execution_count": null,
   "metadata": {},
   "outputs": [],
   "source": [
    "# save all clusters\n",
    "for cl in range(20):\n",
    "    data = sample.loc[sample['cluster'].isin([cl])]['STRUKTURA_STAV'].value_counts(sort=False, normalize=True)\n",
    "\n",
    "    fig, ax = plt.subplots(figsize=(10, 5))\n",
    "    sns.barplot(ax=ax, x=data.index, y=data, order=[1, 2, 5, 6, 7, 8, 9], palette=pal)\n",
    "    sns.despine(offset=10)\n",
    "    plt.ylabel('frequency')\n",
    "    plt.xlabel('qualitative typology')\n",
    "    plt.ylim(0, 1)\n",
    "    ax.set_xticklabels(labels)\n",
    "    show_values_on_bars(ax)\n",
    "    for ext in ['pdf', 'png']:\n",
    "        plt.savefig('figures/PRG_cluster_' + str(cl) + '_structure.' + ext, bbox_inches='tight')\n",
    "    plt.close()"
   ]
  },
  {
   "cell_type": "code",
   "execution_count": null,
   "metadata": {},
   "outputs": [],
   "source": [
    "fig, ax = plt.subplots(2, 2, figsize=(14, 10))\n",
    "\n",
    "data = sample.loc[sample['cluster'].isin([11])]['STRUKTURA_STAV'].value_counts(sort=False, normalize=True)\n",
    "\n",
    "sns.barplot(ax=ax[0, 0], x=data.index, y=data, order=[1, 2, 5, 6, 7, 8, 9], palette=pal)\n",
    "sns.despine(offset=10)\n",
    "ax[0,0].set_ylabel('frequency')\n",
    "ax[0,0].set_xlabel('qualitative typology')\n",
    "ax[0,0].set_title('cluster 11')\n",
    "ax[0,0].set_ylim(0, 1)\n",
    "ax[0,0].set_xticklabels(labels)\n",
    "show_values_on_bars(ax[0, 0])\n",
    "\n",
    "data = sample.loc[sample['cluster'].isin([5])]['STRUKTURA_STAV'].value_counts(sort=False, normalize=True)\n",
    "sns.barplot(ax=ax[0, 1], x=data.index, y=data, order=[1, 2, 5, 6, 7, 8, 9], palette=pal)\n",
    "sns.despine(offset=10)\n",
    "ax[0,1].set_ylabel('frequency')\n",
    "ax[0,1].set_xlabel('qualitative typology')\n",
    "ax[0,1].set_title('cluster 5')\n",
    "ax[0,1].set_ylim(0, 1)\n",
    "ax[0,1].set_xticklabels(labels)\n",
    "show_values_on_bars(ax[0, 1])\n",
    "\n",
    "data = sample.loc[sample['cluster'].isin([12])]['STRUKTURA_STAV'].value_counts(sort=False, normalize=True)\n",
    "sns.barplot(ax=ax[1, 0], x=data.index, y=data, order=[1, 2, 5, 6, 7, 8, 9], palette=pal)\n",
    "sns.despine(offset=10)\n",
    "ax[1,0].set_ylabel('frequency')\n",
    "ax[1,0].set_xlabel('qualitative typology')\n",
    "ax[1,0].set_title('cluster 12')\n",
    "ax[1,0].set_ylim(0, 1)\n",
    "ax[1,0].set_xticklabels(labels)\n",
    "show_values_on_bars(ax[1, 0])\n",
    "\n",
    "data = sample.loc[sample['cluster'].isin([13])]['STRUKTURA_STAV'].value_counts(sort=False, normalize=True)\n",
    "sns.barplot(ax=ax[1, 1], x=data.index, y=data, order=[1, 2, 5, 6, 7, 8, 9], palette=pal)\n",
    "sns.despine(offset=10)\n",
    "ax[1,1].set_ylabel('frequency')\n",
    "ax[1,1].set_xlabel('qualitative typology')\n",
    "ax[1,1].set_title('cluster 13')\n",
    "ax[1,1].set_ylim(0, 1)\n",
    "ax[1,1].set_xticklabels(labels)\n",
    "show_values_on_bars(ax[1, 1])\n",
    "\n",
    "plt.tight_layout()\n",
    "plt.savefig('figures/PRG_cluster_structure_subplot.pdf')"
   ]
  },
  {
   "cell_type": "code",
   "execution_count": null,
   "metadata": {},
   "outputs": [],
   "source": [
    "fig, ax = plt.subplots(2, 2, figsize=(14, 10))\n",
    "\n",
    "data = sample.loc[sample['cluster'].isin([11, 15, 5])]['STRUKTURA_STAV'].value_counts(sort=False, normalize=True)\n",
    "\n",
    "sns.barplot(ax=ax[0, 0], x=data.index, y=data, order=[1, 2, 5, 6, 7, 8, 9], palette=pal)\n",
    "sns.despine(offset=10)\n",
    "ax[0,0].set_ylabel('frequency')\n",
    "ax[0,0].set_xlabel('qualitative typology')\n",
    "ax[0,0].set_title('compact city')\n",
    "ax[0,0].set_ylim(0, 1)\n",
    "ax[0,0].set_xticklabels(labels)\n",
    "show_values_on_bars(ax[0, 0])\n",
    "\n",
    "data = sample.loc[sample['cluster'].isin([3, 0, 8, 9, 13, 17])]['STRUKTURA_STAV'].value_counts(sort=False, normalize=True)\n",
    "sns.barplot(ax=ax[0, 1], x=data.index, y=data, order=[1, 2, 5, 6, 7, 8, 9], palette=pal)\n",
    "sns.despine(offset=10)\n",
    "ax[0,1].set_ylabel('frequency')\n",
    "ax[0,1].set_xlabel('qualitative typology')\n",
    "ax[0,1].set_title('low-rise city')\n",
    "ax[0,1].set_ylim(0, 1)\n",
    "ax[0,1].set_xticklabels(labels)\n",
    "show_values_on_bars(ax[0, 1])\n",
    "\n",
    "data = sample.loc[sample['cluster'].isin([1, 19])]['STRUKTURA_STAV'].value_counts(sort=False, normalize=True)\n",
    "sns.barplot(ax=ax[1, 0], x=data.index, y=data, order=[1, 2, 5, 6, 7, 8, 9], palette=pal)\n",
    "sns.despine(offset=10)\n",
    "ax[1,0].set_ylabel('frequency')\n",
    "ax[1,0].set_xlabel('qualitative typology')\n",
    "ax[1,0].set_title('industrial city')\n",
    "ax[1,0].set_ylim(0, 1)\n",
    "ax[1,0].set_xticklabels(labels)\n",
    "show_values_on_bars(ax[1, 0])\n",
    "\n",
    "data = sample.loc[sample['cluster'].isin([12, 14, 2, 10])]['STRUKTURA_STAV'].value_counts(sort=False, normalize=True)\n",
    "sns.barplot(ax=ax[1, 1], x=data.index, y=data, order=[1, 2, 5, 6, 7, 8, 9], palette=pal)\n",
    "sns.despine(offset=10)\n",
    "ax[1,1].set_ylabel('frequency')\n",
    "ax[1,1].set_xlabel('qualitative typology')\n",
    "ax[1,1].set_title('heterogenous dense city branch')\n",
    "ax[1,1].set_ylim(0, 1)\n",
    "ax[1,1].set_xticklabels(labels)\n",
    "show_values_on_bars(ax[1, 1])\n",
    "\n",
    "plt.tight_layout()\n",
    "plt.savefig('figures/PRG_branch_structure_subplot.pdf')"
   ]
  },
  {
   "cell_type": "code",
   "execution_count": 12,
   "metadata": {},
   "outputs": [],
   "source": [
    "import scipy.stats as ss\n",
    "import numpy as np\n",
    "\n",
    "def cramers_v(x, y):\n",
    "    confusion_matrix = pd.crosstab(x,y)\n",
    "    chi2 = ss.chi2_contingency(confusion_matrix)[0]\n",
    "    n = confusion_matrix.sum().sum()\n",
    "    phi2 = chi2/n\n",
    "    r,k = confusion_matrix.shape\n",
    "    phi2corr = max(0, phi2-((k-1)*(r-1))/(n-1))\n",
    "    rcorr = r-((r-1)**2)/(n-1)\n",
    "    kcorr = k-((k-1)**2)/(n-1)\n",
    "    return np.sqrt(phi2corr/min((kcorr-1),(rcorr-1)))"
   ]
  },
  {
   "cell_type": "code",
   "execution_count": 15,
   "metadata": {},
   "outputs": [
    {
     "data": {
      "text/plain": [
       "0.6741832153043661"
      ]
     },
     "execution_count": 15,
     "metadata": {},
     "output_type": "execute_result"
    }
   ],
   "source": [
    "cramers_v(sample.cluster, sample.STRUKTURA_STAV)"
   ]
  },
  {
   "cell_type": "code",
   "execution_count": 16,
   "metadata": {},
   "outputs": [],
   "source": [
    "confusion_matrix = pd.crosstab(sample.cluster, sample.STRUKTURA_STAV)\n",
    "chi, p, dof, exp = ss.chi2_contingency(confusion_matrix)"
   ]
  },
  {
   "cell_type": "code",
   "execution_count": 20,
   "metadata": {},
   "outputs": [
    {
     "data": {
      "text/plain": [
       "0.0"
      ]
     },
     "execution_count": 20,
     "metadata": {},
     "output_type": "execute_result"
    }
   ],
   "source": [
    "p"
   ]
  },
  {
   "cell_type": "code",
   "execution_count": 21,
   "metadata": {},
   "outputs": [
    {
     "data": {
      "text/plain": [
       "114"
      ]
     },
     "execution_count": 21,
     "metadata": {},
     "output_type": "execute_result"
    }
   ],
   "source": [
    "dof"
   ]
  },
  {
   "cell_type": "code",
   "execution_count": 22,
   "metadata": {},
   "outputs": [
    {
     "data": {
      "text/plain": [
       "325595.1995642433"
      ]
     },
     "execution_count": 22,
     "metadata": {},
     "output_type": "execute_result"
    }
   ],
   "source": [
    "chi"
   ]
  }
 ],
 "metadata": {
  "kernelspec": {
   "display_name": "geo_dev",
   "language": "python",
   "name": "geo_dev"
  },
  "language_info": {
   "codemirror_mode": {
    "name": "ipython",
    "version": 3
   },
   "file_extension": ".py",
   "mimetype": "text/x-python",
   "name": "python",
   "nbconvert_exporter": "python",
   "pygments_lexer": "ipython3",
   "version": "3.7.6"
  }
 },
 "nbformat": 4,
 "nbformat_minor": 4
}
