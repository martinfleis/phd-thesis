{
 "cells": [
  {
   "cell_type": "code",
   "execution_count": null,
   "metadata": {},
   "outputs": [],
   "source": [
    "import geopandas as gpd\n",
    "import momepy as mm\n",
    "from tqdm import tqdm\n",
    "from momepy import limit_range\n",
    "import numpy as np\n",
    "import pandas as pd\n",
    "from inequality.theil import Theil\n",
    "import libpysal\n",
    "import scipy as sp\n",
    "import mapclassify"
   ]
  },
  {
   "cell_type": "markdown",
   "metadata": {},
   "source": [
    "Load data from the previous notebook:"
   ]
  },
  {
   "cell_type": "code",
   "execution_count": null,
   "metadata": {},
   "outputs": [],
   "source": [
    "gdf = pd.read_parquet('files/primary.parquet')\n",
    "\n",
    "spatial_weights = libpysal.io.open('files/AMSqueen3.gal', 'r').read()\n",
    "spatial_weights.neighbors = {int(k): [int(i) for i in v] for k, v in spatial_weights.neighbors.items()}  # we need values as integers again"
   ]
  },
  {
   "cell_type": "markdown",
   "metadata": {},
   "source": [
    "Measure contextual characters:"
   ]
  },
  {
   "cell_type": "code",
   "execution_count": null,
   "metadata": {},
   "outputs": [],
   "source": [
    "means = {}\n",
    "ranges = {}\n",
    "theils = {}\n",
    "\n",
    "for ch in characters:\n",
    "    means[ch] = []\n",
    "    ranges[ch] = []\n",
    "    theils[ch] = []"
   ]
  },
  {
   "cell_type": "code",
   "execution_count": null,
   "metadata": {},
   "outputs": [],
   "source": [
    "unique_id = 'uID'"
   ]
  },
  {
   "cell_type": "code",
   "execution_count": null,
   "metadata": {},
   "outputs": [],
   "source": [
    "gdf = gdf.fillna(0)  # normally does not happen, but to be sure\n",
    "chars = gdf.columns"
   ]
  },
  {
   "cell_type": "code",
   "execution_count": null,
   "metadata": {},
   "outputs": [],
   "source": [
    "gdf['lcdMes'] = gdf.apply(\n",
    "            lambda row: row.lcdMes if row.lcdMes >= 0 else 0,\n",
    "            axis=1,\n",
    "        )  # normally does not happen, but to be sure"
   ]
  },
  {
   "cell_type": "code",
   "execution_count": null,
   "metadata": {},
   "outputs": [],
   "source": [
    "def theil(y):\n",
    "    y = np.array(y)\n",
    "    n = len(y)\n",
    "    plus = y + np.finfo('float').tiny * (y == 0)  # can't have 0 values\n",
    "    yt = plus.sum(axis=0)\n",
    "    s = plus / (yt * 1.0)\n",
    "    lns = np.log(n * s)\n",
    "    slns = s * lns\n",
    "    t = sum(slns)\n",
    "    return t\n",
    "\n",
    "\n",
    "for index, row in tqdm(gdf.iterrows(), total=gdf.shape[0]):\n",
    "    neighbours = spatial_weights.neighbors[index].copy()\n",
    "    neighbours.append(index)\n",
    "    \n",
    "    for ch in characters:\n",
    "        values_list = gdf.loc[neighbours][ch]        \n",
    "        idec = limit_range(values_list.tolist(), rng=(10, 90))\n",
    "        iquar = limit_range(values_list.tolist(), rng=(25, 75))\n",
    "        \n",
    "        means[ch].append(np.mean(iquar))\n",
    "        ranges[ch].append(sp.stats.iqr(values_list, rng=(25, 75)))\n",
    "        theils[ch].append(theil(idec))"
   ]
  },
  {
   "cell_type": "code",
   "execution_count": null,
   "metadata": {},
   "outputs": [],
   "source": [
    "for ch in characters:\n",
    "    gdf[ch + '_meanIQ3'] = means[ch]\n",
    "    gdf[ch + '_rangeIQ3'] = ranges[ch]\n",
    "    gdf[ch + '_theilID3'] = theils[ch]"
   ]
  },
  {
   "cell_type": "code",
   "execution_count": null,
   "metadata": {},
   "outputs": [],
   "source": [
    "skewness = pd.DataFrame(index=chars)\n",
    "for c in chars:\n",
    "    skewness.loc[c, 'skewness'] =sp.stats.skew(gdf[c])\n",
    "headtail = list(skewness.loc[skewness.skewness >= 1].index)\n",
    "to_invert = skewness.loc[skewness.skewness <= -1].index\n",
    "\n",
    "for inv in to_invert:\n",
    "    gdf[inv + '_r'] = gdf[inv].max() - gdf[inv]\n",
    "inverted = [x for x in gdf.columns if '_r' in x]\n",
    "headtail = headtail + inverted\n",
    "natural = [x for x in chars if x not in headtail]"
   ]
  },
  {
   "cell_type": "code",
   "execution_count": null,
   "metadata": {},
   "outputs": [],
   "source": [
    "def _simpson_di(data):\n",
    "\n",
    "    def p(n, N):\n",
    "        if n == 0:\n",
    "            return 0\n",
    "        return float(n) / N\n",
    "\n",
    "    N = sum(data.values())\n",
    "\n",
    "    return sum(p(n, N) ** 2 for n in data.values() if n != 0)"
   ]
  },
  {
   "cell_type": "code",
   "execution_count": null,
   "metadata": {},
   "outputs": [],
   "source": [
    "import mapclassify.classifiers as classifiers\n",
    "schemes = {}\n",
    "for classifier in classifiers.CLASSIFIERS:\n",
    "    schemes[classifier.lower()] = getattr(classifiers, classifier)"
   ]
  },
  {
   "cell_type": "code",
   "execution_count": null,
   "metadata": {},
   "outputs": [],
   "source": [
    "results = {}\n",
    "for c in headtail + natural:\n",
    "    results[c] = []\n",
    "bins = {}\n",
    "for c in headtail:\n",
    "    bins[c] = schemes['headtailbreaks'](gdf[c]).bins\n",
    "for c in natural:\n",
    "    bins[c] = mapclassify.gadf(gdf[c], method='NaturalBreaks')[1].bins"
   ]
  },
  {
   "cell_type": "code",
   "execution_count": null,
   "metadata": {},
   "outputs": [],
   "source": [
    "for index, row in tqdm(gdf.iterrows(), total=gdf.shape[0]):\n",
    "    neighbours = spatial_weights.neighbors[index].copy()\n",
    "    neighbours.append(index)\n",
    "    \n",
    "    subset = gdf.loc[neighbours]\n",
    "    for c in headtail + natural:\n",
    "        values = subset[c]\n",
    "        sample_bins = classifiers.UserDefined(values, list(bins[c]))\n",
    "        counts = dict(zip(bins[c], sample_bins.counts))\n",
    "        results[c].append(_simpson_di(counts))"
   ]
  },
  {
   "cell_type": "code",
   "execution_count": null,
   "metadata": {},
   "outputs": [],
   "source": [
    "for c in headtail + natural:\n",
    "    gdf[c + '_simpson'] = results[c]"
   ]
  },
  {
   "cell_type": "code",
   "execution_count": null,
   "metadata": {},
   "outputs": [],
   "source": [
    "gdf.rename(columns={'sscERI_r_simpson': 'sscERI_simpson',\n",
    " 'ssbERI_r_simpson': 'ssbERI_simpson',}, inplace=True)"
   ]
  },
  {
   "cell_type": "code",
   "execution_count": null,
   "metadata": {},
   "outputs": [],
   "source": [
    "pat = [x for x in gdf.columns if '_' in x]"
   ]
  },
  {
   "cell_type": "code",
   "execution_count": null,
   "metadata": {},
   "outputs": [],
   "source": [
    "gdf[pat].to_parquet('files/contextual.parquet')"
   ]
  }
 ],
 "metadata": {
  "language_info": {
   "codemirror_mode": {
    "name": "ipython",
    "version": 3
   },
   "file_extension": ".py",
   "mimetype": "text/x-python",
   "name": "python",
   "nbconvert_exporter": "python",
   "pygments_lexer": "ipython3",
   "version": "3.8.2-final"
  },
  "orig_nbformat": 2,
  "kernelspec": {
   "name": "geo_dev",
   "display_name": "geo_dev"
  }
 },
 "nbformat": 4,
 "nbformat_minor": 2
}