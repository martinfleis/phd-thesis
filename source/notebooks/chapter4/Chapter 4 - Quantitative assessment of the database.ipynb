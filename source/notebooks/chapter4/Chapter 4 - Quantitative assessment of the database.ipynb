{
 "cells": [
  {
   "cell_type": "markdown",
   "metadata": {},
   "source": [
    "Jupyter notebook used to generate analysis of the database of morphological characters."
   ]
  },
  {
   "cell_type": "code",
   "execution_count": null,
   "metadata": {},
   "outputs": [],
   "source": [
    "import pandas as pd\n",
    "import numpy as np\n",
    "import seaborn as sns\n",
    "import matplotlib.pyplot as plt"
   ]
  },
  {
   "cell_type": "code",
   "execution_count": null,
   "metadata": {},
   "outputs": [],
   "source": [
    "sns.set()"
   ]
  },
  {
   "cell_type": "code",
   "execution_count": null,
   "metadata": {},
   "outputs": [],
   "source": [
    "data = pd.read_csv('characters.csv', index_col=0, delimiter=';')"
   ]
  },
  {
   "cell_type": "code",
   "execution_count": null,
   "metadata": {},
   "outputs": [],
   "source": [
    "statistics_grain = pd.DataFrame(index = ['Block', 'Neighbourhood', 'Urban Area'], columns = ['Dimension', 'Shape', 'Distribution', 'Intensity', 'Connectivity', 'Diversity']).fillna(0)"
   ]
  },
  {
   "cell_type": "code",
   "execution_count": null,
   "metadata": {},
   "outputs": [],
   "source": [
    "for idx, r in data.iterrows():\n",
    "    for scale in ['Block', 'Neighbourhood', 'Urban Area']:\n",
    "        if scale in r['Scale of grain']:\n",
    "            for cat in ['Dimension', 'Shape', 'Distribution', 'Intensity', 'Connectivity', 'Diversity']:\n",
    "                if cat == idx:   \n",
    "                    statistics_grain.loc[scale, cat] = statistics_grain.loc[scale, cat] + 1"
   ]
  },
  {
   "cell_type": "code",
   "execution_count": null,
   "metadata": {},
   "outputs": [],
   "source": [
    "statistics_grain['Total'] = statistics_grain.sum(axis=1)"
   ]
  },
  {
   "cell_type": "code",
   "execution_count": null,
   "metadata": {},
   "outputs": [],
   "source": [
    "statistics_grain.loc['Total']= statistics_grain.sum()"
   ]
  },
  {
   "cell_type": "code",
   "execution_count": null,
   "metadata": {},
   "outputs": [],
   "source": [
    "statistics_grain.rename(index={'Block': \"Small\", \"Neighbourhood\": \"Medium\", \"Urban Area\": \"Large\"}, inplace=True)"
   ]
  },
  {
   "cell_type": "code",
   "execution_count": null,
   "metadata": {},
   "outputs": [],
   "source": [
    "sns.set_style(\"whitegrid\")\n",
    "sns.set_context(\"paper\")"
   ]
  },
  {
   "cell_type": "code",
   "execution_count": null,
   "metadata": {},
   "outputs": [],
   "source": [
    "ax = statistics_grain.drop(columns='Total').drop('Total').plot(kind='bar', figsize=(12, 8), cmap='Set2')\n",
    "sns.despine(offset=5)\n",
    "ax.xaxis.grid(False)\n",
    "ax.yaxis.grid(False)\n",
    "plt.title('Grain')\n",
    "ax.set_ylim([0, 75])\n",
    "plt.savefig('divided_bar.svg')"
   ]
  },
  {
   "cell_type": "code",
   "execution_count": null,
   "metadata": {},
   "outputs": [],
   "source": [
    "ax = statistics_grain.Total.drop('Total').plot(kind='bar', figsize=(6, 4), cmap='Set2')\n",
    "sns.despine(offset=5)\n",
    "ax.xaxis.grid(False)\n",
    "ax.yaxis.grid(False)\n",
    "plt.title('Grain')\n",
    "ax.set_ylim([0, 240])\n",
    "plt.savefig('total_grain.svg')"
   ]
  },
  {
   "cell_type": "code",
   "execution_count": null,
   "metadata": {},
   "outputs": [],
   "source": [
    "ax = statistics_grain.loc['Total'].drop('Total').plot(kind='bar', figsize=(12, 8), cmap='Set2')\n",
    "sns.despine(offset=5)\n",
    "ax.xaxis.grid(False)\n",
    "ax.yaxis.grid(False)\n",
    "plt.title('Grain')\n",
    "plt.savefig('total_categories.png')"
   ]
  },
  {
   "cell_type": "code",
   "execution_count": null,
   "metadata": {},
   "outputs": [],
   "source": [
    "statistics_extent = pd.DataFrame(index = ['Block', 'Neighbourhood', 'Urban Area'], columns = ['Dimension', 'Shape', 'Distribution', 'Intensity', 'Connectivity', 'Diversity']).fillna(0)"
   ]
  },
  {
   "cell_type": "code",
   "execution_count": null,
   "metadata": {},
   "outputs": [],
   "source": [
    "for idx, r in data.iterrows():\n",
    "    for scale in ['Block', 'Neighbourhood', 'Urban Area']:\n",
    "        if scale in r['Scale of information extent']:\n",
    "            for cat in ['Dimension', 'Shape', 'Distribution', 'Intensity', 'Connectivity', 'Diversity']:\n",
    "                if cat == idx:   \n",
    "                    statistics_extent.loc[scale, cat] = statistics_extent.loc[scale, cat] + 1"
   ]
  },
  {
   "cell_type": "code",
   "execution_count": null,
   "metadata": {},
   "outputs": [],
   "source": [
    "statistics_extent['Total'] = statistics_extent.sum(axis=1)\n",
    "statistics_extent.loc['Total']= statistics_extent.sum()\n",
    "statistics_extent.rename(index={'Block': \"Small\", \"Neighbourhood\": \"Medium\", \"Urban Area\": \"Large\"}, inplace=True)"
   ]
  },
  {
   "cell_type": "code",
   "execution_count": null,
   "metadata": {},
   "outputs": [],
   "source": [
    "ax = statistics_extent.drop(columns='Total').drop('Total').plot(kind='bar', figsize=(12, 8), cmap='Set2')\n",
    "sns.despine(offset=5)\n",
    "ax.xaxis.grid(False)\n",
    "ax.yaxis.grid(False)\n",
    "plt.title('Extent')\n",
    "ax.set_ylim([0, 75])\n",
    "plt.savefig('divided_bar_ext.svg')"
   ]
  },
  {
   "cell_type": "code",
   "execution_count": null,
   "metadata": {},
   "outputs": [],
   "source": [
    "ax = statistics_extent.Total.drop('Total').plot(kind='bar', figsize=(6, 4), cmap='Set2')\n",
    "sns.despine(offset=5)\n",
    "ax.xaxis.grid(False)\n",
    "ax.yaxis.grid(False)\n",
    "plt.title('Extent')\n",
    "ax.set_ylim([0, 240])\n",
    "plt.savefig('total_ext.svg')"
   ]
  },
  {
   "cell_type": "code",
   "execution_count": null,
   "metadata": {},
   "outputs": [],
   "source": [
    "ax = statistics_extent.loc['Total'].drop('Total').plot(kind='bar', figsize=(12, 8), cmap='Set2')\n",
    "sns.despine(offset=5)\n",
    "ax.xaxis.grid(False)\n",
    "ax.yaxis.grid(False)\n",
    "plt.title('Extent')\n",
    "#plt.savefig('total_categories.png')"
   ]
  },
  {
   "cell_type": "code",
   "execution_count": null,
   "metadata": {},
   "outputs": [],
   "source": [
    "statistics_extent.to_csv(\"statistics_extent.csv\")\n",
    "statistics_grain.to_csv(\"statistics_grain.csv\")"
   ]
  },
  {
   "cell_type": "code",
   "execution_count": null,
   "metadata": {},
   "outputs": [],
   "source": [
    "statistics_extent"
   ]
  },
  {
   "cell_type": "code",
   "execution_count": null,
   "metadata": {},
   "outputs": [],
   "source": [
    "statistics_grain"
   ]
  },
  {
   "cell_type": "code",
   "execution_count": null,
   "metadata": {},
   "outputs": [],
   "source": [
    "df = pd.DataFrame(data.index.value_counts(sort=False))\n",
    "\n",
    "df['index2'] = pd.Categorical(\n",
    "    df.index, \n",
    "    categories=['Dimension','Shape','Distribution','Intensity','Connectivity','Diversity'], \n",
    "    ordered=True)"
   ]
  },
  {
   "cell_type": "code",
   "execution_count": null,
   "metadata": {},
   "outputs": [],
   "source": [
    "df"
   ]
  },
  {
   "cell_type": "code",
   "execution_count": null,
   "metadata": {},
   "outputs": [],
   "source": [
    "ax = df.sort_values('index2').plot(kind='bar', figsize=(12, 8), cmap='Set2')\n",
    "sns.despine(offset=5)\n",
    "ax.xaxis.grid(False)\n",
    "ax.yaxis.grid(False)\n",
    "plt.savefig('cats.svg')"
   ]
  },
  {
   "cell_type": "code",
   "execution_count": null,
   "metadata": {},
   "outputs": [],
   "source": [
    "pd.DataFrame(data.index.value_counts(sort=False)).reset_index()"
   ]
  }
 ],
 "metadata": {
  "kernelspec": {
   "display_name": "geo_dev",
   "language": "python",
   "name": "geo_dev"
  },
  "language_info": {
   "codemirror_mode": {
    "name": "ipython",
    "version": 3
   },
   "file_extension": ".py",
   "mimetype": "text/x-python",
   "name": "python",
   "nbconvert_exporter": "python",
   "pygments_lexer": "ipython3",
   "version": "3.7.6"
  }
 },
 "nbformat": 4,
 "nbformat_minor": 4
}
