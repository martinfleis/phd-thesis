{
 "cells": [
  {
   "cell_type": "markdown",
   "metadata": {},
   "source": [
    "Jupyter notebook used to generate analytical matrix of literature.\n",
    "\n",
    "Keep in mind that parts of this script are randomised, so the output will not be (visually) exactly the same as the one published in the paper.\n",
    "\n",
    "Generates figure 4.2. (which is further manually post-processed)"
   ]
  },
  {
   "cell_type": "code",
   "execution_count": null,
   "metadata": {},
   "outputs": [],
   "source": [
    "import pandas as pd\n",
    "import seaborn as sns\n",
    "import matplotlib.pyplot as plt\n",
    "import numpy as np\n",
    "from adjustText import adjust_text"
   ]
  },
  {
   "cell_type": "code",
   "execution_count": null,
   "metadata": {},
   "outputs": [],
   "source": [
    "sns.set_style(\"white\")\n",
    "sns.set_context(\"paper\")"
   ]
  },
  {
   "cell_type": "code",
   "execution_count": null,
   "metadata": {},
   "outputs": [],
   "source": [
    "data = pd.read_csv(\"literature.csv\", index_col=0)"
   ]
  },
  {
   "cell_type": "code",
   "execution_count": null,
   "metadata": {},
   "outputs": [],
   "source": [
    "# get jittered coords\n",
    "data['x'] = data.extent + np.random.normal(0, 0.1, len(data))\n",
    "data['y'] = data.grain + np.random.normal(0, 0.1, len(data))"
   ]
  },
  {
   "cell_type": "code",
   "execution_count": null,
   "metadata": {},
   "outputs": [],
   "source": [
    "cmap = sns.cubehelix_palette(dark=.3, light=.8, as_cmap=True)\n",
    "plt.figure(figsize=(12, 12))\n",
    "ax = sns.scatterplot(x=data.x,\n",
    "                     y=data.y,\n",
    "                      hue=\"purpose\", size=\"metric\",\n",
    "                      palette=\"Set2\",alpha=0.8,sizes=(100, 1000),\n",
    "                      data=data, legend='brief', zorder=2)\n",
    "plt.legend(bbox_to_anchor=(1.05, 1), loc=2, borderaxespad=0.)\n",
    "texts = [plt.text(row.x, row.y, row.author, zorder=1, color='grey') for i, row in data.iterrows()]\n",
    "sns.despine()\n",
    "adjust_text(texts, arrowprops=dict(arrowstyle=\"-\", color='grey', lw=0.3))"
   ]
  }
 ],
 "metadata": {
  "kernelspec": {
   "display_name": "geo_dev",
   "language": "python",
   "name": "geo_dev"
  },
  "language_info": {
   "codemirror_mode": {
    "name": "ipython",
    "version": 3
   },
   "file_extension": ".py",
   "mimetype": "text/x-python",
   "name": "python",
   "nbconvert_exporter": "python",
   "pygments_lexer": "ipython3",
   "version": "3.7.6"
  }
 },
 "nbformat": 4,
 "nbformat_minor": 4
}
