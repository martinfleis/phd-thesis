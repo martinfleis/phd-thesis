{
 "cells": [
  {
   "cell_type": "markdown",
   "metadata": {},
   "source": [
    "This notebook generates morphological tessellation within all tested buffers and measure their morphometric characters.\n",
    "\n",
    "Note: _Reach_ has been calculated using UNA Toolkit in ArcMap 10.6."
   ]
  },
  {
   "cell_type": "code",
   "execution_count": 4,
   "metadata": {},
   "outputs": [],
   "source": [
    "import momepy as mm\n",
    "import geopandas as gpd\n",
    "import libpysal\n",
    "import numpy as np\n",
    "from tqdm import tqdm\n",
    "import pandas as pd"
   ]
  },
  {
   "cell_type": "code",
   "execution_count": 5,
   "metadata": {},
   "outputs": [
    {
     "data": {
      "text/plain": [
       "('0.1.1', '0.7.0', '4.2.2', '1.18.1', '1.0.3')"
      ]
     },
     "execution_count": 5,
     "metadata": {},
     "output_type": "execute_result"
    }
   ],
   "source": [
    "mm.__version__, gpd.__version__, libpysal.__version__, np.__version__, pd.__version__"
   ]
  },
  {
   "cell_type": "code",
   "execution_count": null,
   "metadata": {},
   "outputs": [],
   "source": [
    "buildings = gpd.read_file('data/zurich.gpkg', layer='buildings')\n",
    "\n",
    "buildings = mm.preprocess(buildings, size=30, compactness=False, islands=True)\n",
    "\n",
    "buildings['uID'] = range(len(buildings))\n",
    "\n",
    "buildings['blg_area'] = buildings.area\n",
    "buildings.to_file('data/zurich.gpkg', layer='buildings', driver='GPKG')\n",
    "\n",
    "buildings['geometry'] = buildings.simplify(0.2)\n",
    "print('simplified')\n",
    "\n",
    "buffers = [300, 10, 15, 20, 25, 30, 40, 50, 60, 70, 80, 90, 100, 150, 200]\n",
    "for buf in buffers:\n",
    "    print('Generating', buf)\n",
    "    limit = mm.buffered_limit(buildings, buf)\n",
    "    tessellation = mm.Tessellation(buildings, 'uID', limit).tessellation\n",
    "    tessellation.to_file('data/tessellation/{0}_tessellation.shp'.format(buf))"
   ]
  },
  {
   "cell_type": "code",
   "execution_count": null,
   "metadata": {},
   "outputs": [],
   "source": [
    "def gini(vals):\n",
    "    \"\"\"Calculate the Gini coefficient of a numpy array.\"\"\"\n",
    "    # based on bottom eq:\n",
    "    # http://www.statsdirect.com/help/generatedimages/equations/equation154.svg\n",
    "    # from:\n",
    "    # http://www.statsdirect.com/help/default.htm#nonparametric_methods/gini.htm\n",
    "    # All values are treated equally, arrays must be 1d:\n",
    "    vals = vals.flatten()\n",
    "    if np.amin(vals) < 0:\n",
    "        # Values cannot be negative:\n",
    "        vals -= np.amin(vals)\n",
    "    # Values cannot be 0:\n",
    "    vals += 0.0000001\n",
    "    # Values must be sorted:\n",
    "    vals = np.sort(vals)\n",
    "    # Index per array element:\n",
    "    index = np.arange(1, vals.shape[0] + 1)\n",
    "    # Number of array elements:\n",
    "    n = vals.shape[0]\n",
    "    # Gini coefficient:\n",
    "    return ((np.sum((2 * index - n - 1) * vals)) / (n * np.sum(vals)))"
   ]
  },
  {
   "cell_type": "code",
   "execution_count": null,
   "metadata": {},
   "outputs": [],
   "source": [
    "def gini_fn(gdf, values, spatial_weights, unique_id):\n",
    "\n",
    "    # define empty list for results\n",
    "    results_list = []\n",
    "    gdf = gdf.copy()\n",
    "    print('Calculating gini...')\n",
    "\n",
    "    for index, row in tqdm(gdf.iterrows(), total=gdf.shape[0]):\n",
    "        neighbours = spatial_weights.neighbors[row[unique_id]]\n",
    "        if neighbours:\n",
    "            neighbours.append(row[unique_id])\n",
    "\n",
    "            values_list = gdf.loc[gdf[unique_id].isin(neighbours)][values].values\n",
    "\n",
    "            results_list.append(gini(values_list))\n",
    "        else:\n",
    "            results_list.append(0)\n",
    "    series = pd.Series(results_list, index=gdf.index)\n",
    "\n",
    "    print('Gini calculated.')\n",
    "    return series"
   ]
  },
  {
   "cell_type": "code",
   "execution_count": null,
   "metadata": {},
   "outputs": [],
   "source": [
    "for buf in buffers:\n",
    "    tessellation = gpd.read_file('data/tessellation/{0}_tessellation.shp'.format(buf))\n",
    "    tessellation['area'] = tessellation.area\n",
    "    tessellation['lal'] = mm.LongestAxisLength(tessellation).series\n",
    "    tessellation['circom'] = mm.CircularCompactness(tessellation).series\n",
    "    tessellation['shapeix'] = mm.ShapeIndex(tessellation, 'lal', 'area').series\n",
    "    tessellation['rectan'] = mm.Rectangularity(tessellation, 'area').series\n",
    "    tessellation['fractal'] = mm.FractalDimension(tessellation, 'area').series\n",
    "    tessellation['orient'] = mm.Orientation(tessellation).series\n",
    "    distancesw = libpysal.weights.DistanceBand.from_dataframe(tessellation, 400, ids='uID')\n",
    "    tessellation['freq'] = mm.Neighbors(tessellation, distancesw, 'uID').series\n",
    "    tessellation['car'] = mm.AreaRatio(tessellation, buildings, 'area', mm.Area(buildings).series)\n",
    "    tessellation['gini_area'] = gini_fn(tessellation, 'area', distancesw, 'uID')\n",
    "    tessellation['gini_car'] = gini_fn(tessellation, 'car', distancesw, 'uID')\n",
    "    tessellation.to_file('data/tessellation/{0}_tessellation.shp'.format(buf))"
   ]
  },
  {
   "cell_type": "code",
   "execution_count": null,
   "metadata": {},
   "outputs": [],
   "source": [
    "cadastre = gpd.read_file('data/cadastre/Zurich_cadastre.shp')\n",
    "\n",
    "cadastre['area'] = tessellation.area\n",
    "cadastre['lal'] = mm.LongestAxisLength(cadastre).series\n",
    "cadastre['circom'] = mm.CircularCompactness(cadastre).series\n",
    "cadastre['shapeix'] = mm.ShapeIndex(cadastre, 'lal', 'area').series\n",
    "cadastre['rectan'] = mm.Rectangularity(cadastre, 'area').series\n",
    "cadastre['fractal'] = mm.FractalDimension(cadastre, 'area').series\n",
    "cadastre['orient'] = mm.Orientation(cadastre).series\n",
    "distancesw = libpysal.weights.DistanceBand.from_dataframe(cadastre, 400, ids='uID')\n",
    "cadastre['freq'] = mm.Neighbors(cadastre, distancesw, 'uID').series\n",
    "cadastre['car'] = mm.AreaRatio(cadastre, buildings, 'area', mm.Area(buildings).series)\n",
    "cadastre['gini_area'] = gini_fn(cadastre, 'area', distancesw, 'uID')\n",
    "cadastre['gini_car'] = gini_fn(cadastre, 'car', distancesw, 'uID')\n",
    "cadastre.to_file('data/cadastre/cadastre.shp')"
   ]
  }
 ],
 "metadata": {
  "kernelspec": {
   "display_name": "ceus",
   "language": "python",
   "name": "ceus"
  },
  "language_info": {
   "codemirror_mode": {
    "name": "ipython",
    "version": 3
   },
   "file_extension": ".py",
   "mimetype": "text/x-python",
   "name": "python",
   "nbconvert_exporter": "python",
   "pygments_lexer": "ipython3",
   "version": "3.8.2"
  }
 },
 "nbformat": 4,
 "nbformat_minor": 4
}